{
 "cells": [
  {
   "cell_type": "markdown",
   "metadata": {
    "id": "Yfo0FYLwPVjs"
   },
   "source": [
    "*Автострахование* \n",
    "\n",
    "\n",
    "\n"
   ]
  },
  {
   "cell_type": "markdown",
   "metadata": {
    "id": "a3Vkak05PVj0"
   },
   "source": [
    "## Компания поделилась своими ежегодными данными о страховании автомобилей. Нужно выяснить реальное поведение клиентов по данным (получит ли пользователь страховку?)"
   ]
  },
  {
   "cell_type": "markdown",
   "metadata": {
    "id": "uc_qMrI2RW-5"
   },
   "source": [
    "##Разведочный анализ"
   ]
  },
  {
   "cell_type": "code",
   "execution_count": 5,
   "metadata": {
    "id": "L4w1Nao1PVj1"
   },
   "outputs": [],
   "source": [
    "import numpy as np              \n",
    "import matplotlib.pyplot as plt \n",
    "%matplotlib inline \n",
    "    \n",
    "import pandas as pd             \n",
    "import seaborn as sns           \n",
    "import sklearn  "
   ]
  },
  {
   "cell_type": "markdown",
   "metadata": {
    "id": "0z19gF5fSBai"
   },
   "source": [
    "##Загружаем данные\n"
   ]
  },
  {
   "cell_type": "code",
   "execution_count": 7,
   "metadata": {
    "id": "oJuIQq8aPVj2"
   },
   "outputs": [],
   "source": [
    "url = \"C://Users//stale//Documents//Car_Insurance_Claim.csv\"\n",
    "data_raw = pd.read_csv(url)"
   ]
  },
  {
   "cell_type": "markdown",
   "metadata": {
    "id": "E8U6kpN6VeXZ"
   },
   "source": [
    "Вначале посмотрим на размеры таблицы - количество строк (каждая строка соответствует одной квартире) и количество столбцов (каждый столбец соответствует конкретному признаку):"
   ]
  },
  {
   "cell_type": "code",
   "execution_count": 8,
   "metadata": {
    "colab": {
     "base_uri": "https://localhost:8080/"
    },
    "id": "IQs3b5ykVOvm",
    "outputId": "3269e133-79df-4273-e963-0c95cebfd9e0"
   },
   "outputs": [
    {
     "data": {
      "text/plain": [
       "(10000, 19)"
      ]
     },
     "execution_count": 8,
     "metadata": {},
     "output_type": "execute_result"
    }
   ],
   "source": [
    "data_raw.shape"
   ]
  },
  {
   "cell_type": "markdown",
   "metadata": {
    "id": "vJwN1RFIPVj4"
   },
   "source": [
    "В таблице содержатся данные о 10000 клиентах, разделенные на 19 категорий:"
   ]
  },
  {
   "cell_type": "code",
   "execution_count": 9,
   "metadata": {
    "colab": {
     "base_uri": "https://localhost:8080/",
     "height": 661
    },
    "id": "FgW-OMNOPVj5",
    "outputId": "b63489d3-6256-4b39-e252-f0304a8d90e6"
   },
   "outputs": [
    {
     "data": {
      "text/html": [
       "<div>\n",
       "<style scoped>\n",
       "    .dataframe tbody tr th:only-of-type {\n",
       "        vertical-align: middle;\n",
       "    }\n",
       "\n",
       "    .dataframe tbody tr th {\n",
       "        vertical-align: top;\n",
       "    }\n",
       "\n",
       "    .dataframe thead th {\n",
       "        text-align: right;\n",
       "    }\n",
       "</style>\n",
       "<table border=\"1\" class=\"dataframe\">\n",
       "  <thead>\n",
       "    <tr style=\"text-align: right;\">\n",
       "      <th></th>\n",
       "      <th>ID</th>\n",
       "      <th>AGE</th>\n",
       "      <th>GENDER</th>\n",
       "      <th>RACE</th>\n",
       "      <th>DRIVING_EXPERIENCE</th>\n",
       "      <th>EDUCATION</th>\n",
       "      <th>INCOME</th>\n",
       "      <th>CREDIT_SCORE</th>\n",
       "      <th>VEHICLE_OWNERSHIP</th>\n",
       "      <th>VEHICLE_YEAR</th>\n",
       "      <th>MARRIED</th>\n",
       "      <th>CHILDREN</th>\n",
       "      <th>POSTAL_CODE</th>\n",
       "      <th>ANNUAL_MILEAGE</th>\n",
       "      <th>VEHICLE_TYPE</th>\n",
       "      <th>SPEEDING_VIOLATIONS</th>\n",
       "      <th>DUIS</th>\n",
       "      <th>PAST_ACCIDENTS</th>\n",
       "      <th>OUTCOME</th>\n",
       "    </tr>\n",
       "  </thead>\n",
       "  <tbody>\n",
       "    <tr>\n",
       "      <th>0</th>\n",
       "      <td>569520</td>\n",
       "      <td>65+</td>\n",
       "      <td>female</td>\n",
       "      <td>majority</td>\n",
       "      <td>0-9y</td>\n",
       "      <td>high school</td>\n",
       "      <td>upper class</td>\n",
       "      <td>0.629027</td>\n",
       "      <td>1.0</td>\n",
       "      <td>after 2015</td>\n",
       "      <td>0.0</td>\n",
       "      <td>1.0</td>\n",
       "      <td>10238</td>\n",
       "      <td>12000.0</td>\n",
       "      <td>sedan</td>\n",
       "      <td>0</td>\n",
       "      <td>0</td>\n",
       "      <td>0</td>\n",
       "      <td>0.0</td>\n",
       "    </tr>\n",
       "    <tr>\n",
       "      <th>1</th>\n",
       "      <td>750365</td>\n",
       "      <td>16-25</td>\n",
       "      <td>male</td>\n",
       "      <td>majority</td>\n",
       "      <td>0-9y</td>\n",
       "      <td>none</td>\n",
       "      <td>poverty</td>\n",
       "      <td>0.357757</td>\n",
       "      <td>0.0</td>\n",
       "      <td>before 2015</td>\n",
       "      <td>0.0</td>\n",
       "      <td>0.0</td>\n",
       "      <td>10238</td>\n",
       "      <td>16000.0</td>\n",
       "      <td>sedan</td>\n",
       "      <td>0</td>\n",
       "      <td>0</td>\n",
       "      <td>0</td>\n",
       "      <td>1.0</td>\n",
       "    </tr>\n",
       "    <tr>\n",
       "      <th>2</th>\n",
       "      <td>199901</td>\n",
       "      <td>16-25</td>\n",
       "      <td>female</td>\n",
       "      <td>majority</td>\n",
       "      <td>0-9y</td>\n",
       "      <td>high school</td>\n",
       "      <td>working class</td>\n",
       "      <td>0.493146</td>\n",
       "      <td>1.0</td>\n",
       "      <td>before 2015</td>\n",
       "      <td>0.0</td>\n",
       "      <td>0.0</td>\n",
       "      <td>10238</td>\n",
       "      <td>11000.0</td>\n",
       "      <td>sedan</td>\n",
       "      <td>0</td>\n",
       "      <td>0</td>\n",
       "      <td>0</td>\n",
       "      <td>0.0</td>\n",
       "    </tr>\n",
       "    <tr>\n",
       "      <th>3</th>\n",
       "      <td>478866</td>\n",
       "      <td>16-25</td>\n",
       "      <td>male</td>\n",
       "      <td>majority</td>\n",
       "      <td>0-9y</td>\n",
       "      <td>university</td>\n",
       "      <td>working class</td>\n",
       "      <td>0.206013</td>\n",
       "      <td>1.0</td>\n",
       "      <td>before 2015</td>\n",
       "      <td>0.0</td>\n",
       "      <td>1.0</td>\n",
       "      <td>32765</td>\n",
       "      <td>11000.0</td>\n",
       "      <td>sedan</td>\n",
       "      <td>0</td>\n",
       "      <td>0</td>\n",
       "      <td>0</td>\n",
       "      <td>0.0</td>\n",
       "    </tr>\n",
       "    <tr>\n",
       "      <th>4</th>\n",
       "      <td>731664</td>\n",
       "      <td>26-39</td>\n",
       "      <td>male</td>\n",
       "      <td>majority</td>\n",
       "      <td>10-19y</td>\n",
       "      <td>none</td>\n",
       "      <td>working class</td>\n",
       "      <td>0.388366</td>\n",
       "      <td>1.0</td>\n",
       "      <td>before 2015</td>\n",
       "      <td>0.0</td>\n",
       "      <td>0.0</td>\n",
       "      <td>32765</td>\n",
       "      <td>12000.0</td>\n",
       "      <td>sedan</td>\n",
       "      <td>2</td>\n",
       "      <td>0</td>\n",
       "      <td>1</td>\n",
       "      <td>1.0</td>\n",
       "    </tr>\n",
       "    <tr>\n",
       "      <th>...</th>\n",
       "      <td>...</td>\n",
       "      <td>...</td>\n",
       "      <td>...</td>\n",
       "      <td>...</td>\n",
       "      <td>...</td>\n",
       "      <td>...</td>\n",
       "      <td>...</td>\n",
       "      <td>...</td>\n",
       "      <td>...</td>\n",
       "      <td>...</td>\n",
       "      <td>...</td>\n",
       "      <td>...</td>\n",
       "      <td>...</td>\n",
       "      <td>...</td>\n",
       "      <td>...</td>\n",
       "      <td>...</td>\n",
       "      <td>...</td>\n",
       "      <td>...</td>\n",
       "      <td>...</td>\n",
       "    </tr>\n",
       "    <tr>\n",
       "      <th>9995</th>\n",
       "      <td>323164</td>\n",
       "      <td>26-39</td>\n",
       "      <td>female</td>\n",
       "      <td>majority</td>\n",
       "      <td>10-19y</td>\n",
       "      <td>university</td>\n",
       "      <td>upper class</td>\n",
       "      <td>0.582787</td>\n",
       "      <td>1.0</td>\n",
       "      <td>before 2015</td>\n",
       "      <td>0.0</td>\n",
       "      <td>0.0</td>\n",
       "      <td>10238</td>\n",
       "      <td>16000.0</td>\n",
       "      <td>sedan</td>\n",
       "      <td>0</td>\n",
       "      <td>0</td>\n",
       "      <td>1</td>\n",
       "      <td>0.0</td>\n",
       "    </tr>\n",
       "    <tr>\n",
       "      <th>9996</th>\n",
       "      <td>910346</td>\n",
       "      <td>26-39</td>\n",
       "      <td>female</td>\n",
       "      <td>majority</td>\n",
       "      <td>10-19y</td>\n",
       "      <td>none</td>\n",
       "      <td>middle class</td>\n",
       "      <td>0.522231</td>\n",
       "      <td>1.0</td>\n",
       "      <td>after 2015</td>\n",
       "      <td>0.0</td>\n",
       "      <td>1.0</td>\n",
       "      <td>32765</td>\n",
       "      <td>NaN</td>\n",
       "      <td>sedan</td>\n",
       "      <td>1</td>\n",
       "      <td>0</td>\n",
       "      <td>0</td>\n",
       "      <td>0.0</td>\n",
       "    </tr>\n",
       "    <tr>\n",
       "      <th>9997</th>\n",
       "      <td>468409</td>\n",
       "      <td>26-39</td>\n",
       "      <td>male</td>\n",
       "      <td>majority</td>\n",
       "      <td>0-9y</td>\n",
       "      <td>high school</td>\n",
       "      <td>middle class</td>\n",
       "      <td>0.470940</td>\n",
       "      <td>1.0</td>\n",
       "      <td>before 2015</td>\n",
       "      <td>0.0</td>\n",
       "      <td>1.0</td>\n",
       "      <td>10238</td>\n",
       "      <td>14000.0</td>\n",
       "      <td>sedan</td>\n",
       "      <td>0</td>\n",
       "      <td>0</td>\n",
       "      <td>0</td>\n",
       "      <td>0.0</td>\n",
       "    </tr>\n",
       "    <tr>\n",
       "      <th>9998</th>\n",
       "      <td>903459</td>\n",
       "      <td>26-39</td>\n",
       "      <td>female</td>\n",
       "      <td>majority</td>\n",
       "      <td>10-19y</td>\n",
       "      <td>high school</td>\n",
       "      <td>poverty</td>\n",
       "      <td>0.364185</td>\n",
       "      <td>0.0</td>\n",
       "      <td>before 2015</td>\n",
       "      <td>0.0</td>\n",
       "      <td>1.0</td>\n",
       "      <td>10238</td>\n",
       "      <td>13000.0</td>\n",
       "      <td>sedan</td>\n",
       "      <td>2</td>\n",
       "      <td>0</td>\n",
       "      <td>1</td>\n",
       "      <td>1.0</td>\n",
       "    </tr>\n",
       "    <tr>\n",
       "      <th>9999</th>\n",
       "      <td>442696</td>\n",
       "      <td>26-39</td>\n",
       "      <td>female</td>\n",
       "      <td>majority</td>\n",
       "      <td>0-9y</td>\n",
       "      <td>none</td>\n",
       "      <td>working class</td>\n",
       "      <td>0.435225</td>\n",
       "      <td>1.0</td>\n",
       "      <td>before 2015</td>\n",
       "      <td>1.0</td>\n",
       "      <td>1.0</td>\n",
       "      <td>10238</td>\n",
       "      <td>13000.0</td>\n",
       "      <td>sedan</td>\n",
       "      <td>0</td>\n",
       "      <td>0</td>\n",
       "      <td>0</td>\n",
       "      <td>0.0</td>\n",
       "    </tr>\n",
       "  </tbody>\n",
       "</table>\n",
       "<p>10000 rows × 19 columns</p>\n",
       "</div>"
      ],
      "text/plain": [
       "          ID    AGE  GENDER      RACE DRIVING_EXPERIENCE    EDUCATION  \\\n",
       "0     569520    65+  female  majority               0-9y  high school   \n",
       "1     750365  16-25    male  majority               0-9y         none   \n",
       "2     199901  16-25  female  majority               0-9y  high school   \n",
       "3     478866  16-25    male  majority               0-9y   university   \n",
       "4     731664  26-39    male  majority             10-19y         none   \n",
       "...      ...    ...     ...       ...                ...          ...   \n",
       "9995  323164  26-39  female  majority             10-19y   university   \n",
       "9996  910346  26-39  female  majority             10-19y         none   \n",
       "9997  468409  26-39    male  majority               0-9y  high school   \n",
       "9998  903459  26-39  female  majority             10-19y  high school   \n",
       "9999  442696  26-39  female  majority               0-9y         none   \n",
       "\n",
       "             INCOME  CREDIT_SCORE  VEHICLE_OWNERSHIP VEHICLE_YEAR  MARRIED  \\\n",
       "0       upper class      0.629027                1.0   after 2015      0.0   \n",
       "1           poverty      0.357757                0.0  before 2015      0.0   \n",
       "2     working class      0.493146                1.0  before 2015      0.0   \n",
       "3     working class      0.206013                1.0  before 2015      0.0   \n",
       "4     working class      0.388366                1.0  before 2015      0.0   \n",
       "...             ...           ...                ...          ...      ...   \n",
       "9995    upper class      0.582787                1.0  before 2015      0.0   \n",
       "9996   middle class      0.522231                1.0   after 2015      0.0   \n",
       "9997   middle class      0.470940                1.0  before 2015      0.0   \n",
       "9998        poverty      0.364185                0.0  before 2015      0.0   \n",
       "9999  working class      0.435225                1.0  before 2015      1.0   \n",
       "\n",
       "      CHILDREN  POSTAL_CODE  ANNUAL_MILEAGE VEHICLE_TYPE  SPEEDING_VIOLATIONS  \\\n",
       "0          1.0        10238         12000.0        sedan                    0   \n",
       "1          0.0        10238         16000.0        sedan                    0   \n",
       "2          0.0        10238         11000.0        sedan                    0   \n",
       "3          1.0        32765         11000.0        sedan                    0   \n",
       "4          0.0        32765         12000.0        sedan                    2   \n",
       "...        ...          ...             ...          ...                  ...   \n",
       "9995       0.0        10238         16000.0        sedan                    0   \n",
       "9996       1.0        32765             NaN        sedan                    1   \n",
       "9997       1.0        10238         14000.0        sedan                    0   \n",
       "9998       1.0        10238         13000.0        sedan                    2   \n",
       "9999       1.0        10238         13000.0        sedan                    0   \n",
       "\n",
       "      DUIS  PAST_ACCIDENTS  OUTCOME  \n",
       "0        0               0      0.0  \n",
       "1        0               0      1.0  \n",
       "2        0               0      0.0  \n",
       "3        0               0      0.0  \n",
       "4        0               1      1.0  \n",
       "...    ...             ...      ...  \n",
       "9995     0               1      0.0  \n",
       "9996     0               0      0.0  \n",
       "9997     0               0      0.0  \n",
       "9998     0               1      1.0  \n",
       "9999     0               0      0.0  \n",
       "\n",
       "[10000 rows x 19 columns]"
      ]
     },
     "execution_count": 9,
     "metadata": {},
     "output_type": "execute_result"
    }
   ],
   "source": [
    "data_raw"
   ]
  },
  {
   "cell_type": "markdown",
   "metadata": {
    "id": "o6EqPaVcXxIT"
   },
   "source": [
    "Метод `data_raw.head()` отображает первые строки (по умолчанию, 5 строк) таблицы"
   ]
  },
  {
   "cell_type": "code",
   "execution_count": 10,
   "metadata": {
    "colab": {
     "base_uri": "https://localhost:8080/",
     "height": 357
    },
    "id": "QgUv_x6WV77O",
    "outputId": "f3e9f278-d838-4c51-d347-8a34f13ea085"
   },
   "outputs": [
    {
     "data": {
      "text/html": [
       "<div>\n",
       "<style scoped>\n",
       "    .dataframe tbody tr th:only-of-type {\n",
       "        vertical-align: middle;\n",
       "    }\n",
       "\n",
       "    .dataframe tbody tr th {\n",
       "        vertical-align: top;\n",
       "    }\n",
       "\n",
       "    .dataframe thead th {\n",
       "        text-align: right;\n",
       "    }\n",
       "</style>\n",
       "<table border=\"1\" class=\"dataframe\">\n",
       "  <thead>\n",
       "    <tr style=\"text-align: right;\">\n",
       "      <th></th>\n",
       "      <th>ID</th>\n",
       "      <th>AGE</th>\n",
       "      <th>GENDER</th>\n",
       "      <th>RACE</th>\n",
       "      <th>DRIVING_EXPERIENCE</th>\n",
       "      <th>EDUCATION</th>\n",
       "      <th>INCOME</th>\n",
       "      <th>CREDIT_SCORE</th>\n",
       "      <th>VEHICLE_OWNERSHIP</th>\n",
       "      <th>VEHICLE_YEAR</th>\n",
       "      <th>MARRIED</th>\n",
       "      <th>CHILDREN</th>\n",
       "      <th>POSTAL_CODE</th>\n",
       "      <th>ANNUAL_MILEAGE</th>\n",
       "      <th>VEHICLE_TYPE</th>\n",
       "      <th>SPEEDING_VIOLATIONS</th>\n",
       "      <th>DUIS</th>\n",
       "      <th>PAST_ACCIDENTS</th>\n",
       "      <th>OUTCOME</th>\n",
       "    </tr>\n",
       "  </thead>\n",
       "  <tbody>\n",
       "    <tr>\n",
       "      <th>0</th>\n",
       "      <td>569520</td>\n",
       "      <td>65+</td>\n",
       "      <td>female</td>\n",
       "      <td>majority</td>\n",
       "      <td>0-9y</td>\n",
       "      <td>high school</td>\n",
       "      <td>upper class</td>\n",
       "      <td>0.629027</td>\n",
       "      <td>1.0</td>\n",
       "      <td>after 2015</td>\n",
       "      <td>0.0</td>\n",
       "      <td>1.0</td>\n",
       "      <td>10238</td>\n",
       "      <td>12000.0</td>\n",
       "      <td>sedan</td>\n",
       "      <td>0</td>\n",
       "      <td>0</td>\n",
       "      <td>0</td>\n",
       "      <td>0.0</td>\n",
       "    </tr>\n",
       "    <tr>\n",
       "      <th>1</th>\n",
       "      <td>750365</td>\n",
       "      <td>16-25</td>\n",
       "      <td>male</td>\n",
       "      <td>majority</td>\n",
       "      <td>0-9y</td>\n",
       "      <td>none</td>\n",
       "      <td>poverty</td>\n",
       "      <td>0.357757</td>\n",
       "      <td>0.0</td>\n",
       "      <td>before 2015</td>\n",
       "      <td>0.0</td>\n",
       "      <td>0.0</td>\n",
       "      <td>10238</td>\n",
       "      <td>16000.0</td>\n",
       "      <td>sedan</td>\n",
       "      <td>0</td>\n",
       "      <td>0</td>\n",
       "      <td>0</td>\n",
       "      <td>1.0</td>\n",
       "    </tr>\n",
       "    <tr>\n",
       "      <th>2</th>\n",
       "      <td>199901</td>\n",
       "      <td>16-25</td>\n",
       "      <td>female</td>\n",
       "      <td>majority</td>\n",
       "      <td>0-9y</td>\n",
       "      <td>high school</td>\n",
       "      <td>working class</td>\n",
       "      <td>0.493146</td>\n",
       "      <td>1.0</td>\n",
       "      <td>before 2015</td>\n",
       "      <td>0.0</td>\n",
       "      <td>0.0</td>\n",
       "      <td>10238</td>\n",
       "      <td>11000.0</td>\n",
       "      <td>sedan</td>\n",
       "      <td>0</td>\n",
       "      <td>0</td>\n",
       "      <td>0</td>\n",
       "      <td>0.0</td>\n",
       "    </tr>\n",
       "    <tr>\n",
       "      <th>3</th>\n",
       "      <td>478866</td>\n",
       "      <td>16-25</td>\n",
       "      <td>male</td>\n",
       "      <td>majority</td>\n",
       "      <td>0-9y</td>\n",
       "      <td>university</td>\n",
       "      <td>working class</td>\n",
       "      <td>0.206013</td>\n",
       "      <td>1.0</td>\n",
       "      <td>before 2015</td>\n",
       "      <td>0.0</td>\n",
       "      <td>1.0</td>\n",
       "      <td>32765</td>\n",
       "      <td>11000.0</td>\n",
       "      <td>sedan</td>\n",
       "      <td>0</td>\n",
       "      <td>0</td>\n",
       "      <td>0</td>\n",
       "      <td>0.0</td>\n",
       "    </tr>\n",
       "    <tr>\n",
       "      <th>4</th>\n",
       "      <td>731664</td>\n",
       "      <td>26-39</td>\n",
       "      <td>male</td>\n",
       "      <td>majority</td>\n",
       "      <td>10-19y</td>\n",
       "      <td>none</td>\n",
       "      <td>working class</td>\n",
       "      <td>0.388366</td>\n",
       "      <td>1.0</td>\n",
       "      <td>before 2015</td>\n",
       "      <td>0.0</td>\n",
       "      <td>0.0</td>\n",
       "      <td>32765</td>\n",
       "      <td>12000.0</td>\n",
       "      <td>sedan</td>\n",
       "      <td>2</td>\n",
       "      <td>0</td>\n",
       "      <td>1</td>\n",
       "      <td>1.0</td>\n",
       "    </tr>\n",
       "  </tbody>\n",
       "</table>\n",
       "</div>"
      ],
      "text/plain": [
       "       ID    AGE  GENDER      RACE DRIVING_EXPERIENCE    EDUCATION  \\\n",
       "0  569520    65+  female  majority               0-9y  high school   \n",
       "1  750365  16-25    male  majority               0-9y         none   \n",
       "2  199901  16-25  female  majority               0-9y  high school   \n",
       "3  478866  16-25    male  majority               0-9y   university   \n",
       "4  731664  26-39    male  majority             10-19y         none   \n",
       "\n",
       "          INCOME  CREDIT_SCORE  VEHICLE_OWNERSHIP VEHICLE_YEAR  MARRIED  \\\n",
       "0    upper class      0.629027                1.0   after 2015      0.0   \n",
       "1        poverty      0.357757                0.0  before 2015      0.0   \n",
       "2  working class      0.493146                1.0  before 2015      0.0   \n",
       "3  working class      0.206013                1.0  before 2015      0.0   \n",
       "4  working class      0.388366                1.0  before 2015      0.0   \n",
       "\n",
       "   CHILDREN  POSTAL_CODE  ANNUAL_MILEAGE VEHICLE_TYPE  SPEEDING_VIOLATIONS  \\\n",
       "0       1.0        10238         12000.0        sedan                    0   \n",
       "1       0.0        10238         16000.0        sedan                    0   \n",
       "2       0.0        10238         11000.0        sedan                    0   \n",
       "3       1.0        32765         11000.0        sedan                    0   \n",
       "4       0.0        32765         12000.0        sedan                    2   \n",
       "\n",
       "   DUIS  PAST_ACCIDENTS  OUTCOME  \n",
       "0     0               0      0.0  \n",
       "1     0               0      1.0  \n",
       "2     0               0      0.0  \n",
       "3     0               0      0.0  \n",
       "4     0               1      1.0  "
      ]
     },
     "execution_count": 10,
     "metadata": {},
     "output_type": "execute_result"
    }
   ],
   "source": [
    "data_raw.head()"
   ]
  },
  {
   "cell_type": "markdown",
   "metadata": {
    "id": "w_aWK9Zjey9D"
   },
   "source": [
    "Последние строки:"
   ]
  },
  {
   "cell_type": "code",
   "execution_count": 11,
   "metadata": {
    "colab": {
     "base_uri": "https://localhost:8080/",
     "height": 357
    },
    "id": "WGWei_06e-Pg",
    "outputId": "22bde21d-a8f6-434c-bc62-4b4afe29274e"
   },
   "outputs": [
    {
     "data": {
      "text/html": [
       "<div>\n",
       "<style scoped>\n",
       "    .dataframe tbody tr th:only-of-type {\n",
       "        vertical-align: middle;\n",
       "    }\n",
       "\n",
       "    .dataframe tbody tr th {\n",
       "        vertical-align: top;\n",
       "    }\n",
       "\n",
       "    .dataframe thead th {\n",
       "        text-align: right;\n",
       "    }\n",
       "</style>\n",
       "<table border=\"1\" class=\"dataframe\">\n",
       "  <thead>\n",
       "    <tr style=\"text-align: right;\">\n",
       "      <th></th>\n",
       "      <th>ID</th>\n",
       "      <th>AGE</th>\n",
       "      <th>GENDER</th>\n",
       "      <th>RACE</th>\n",
       "      <th>DRIVING_EXPERIENCE</th>\n",
       "      <th>EDUCATION</th>\n",
       "      <th>INCOME</th>\n",
       "      <th>CREDIT_SCORE</th>\n",
       "      <th>VEHICLE_OWNERSHIP</th>\n",
       "      <th>VEHICLE_YEAR</th>\n",
       "      <th>MARRIED</th>\n",
       "      <th>CHILDREN</th>\n",
       "      <th>POSTAL_CODE</th>\n",
       "      <th>ANNUAL_MILEAGE</th>\n",
       "      <th>VEHICLE_TYPE</th>\n",
       "      <th>SPEEDING_VIOLATIONS</th>\n",
       "      <th>DUIS</th>\n",
       "      <th>PAST_ACCIDENTS</th>\n",
       "      <th>OUTCOME</th>\n",
       "    </tr>\n",
       "  </thead>\n",
       "  <tbody>\n",
       "    <tr>\n",
       "      <th>9995</th>\n",
       "      <td>323164</td>\n",
       "      <td>26-39</td>\n",
       "      <td>female</td>\n",
       "      <td>majority</td>\n",
       "      <td>10-19y</td>\n",
       "      <td>university</td>\n",
       "      <td>upper class</td>\n",
       "      <td>0.582787</td>\n",
       "      <td>1.0</td>\n",
       "      <td>before 2015</td>\n",
       "      <td>0.0</td>\n",
       "      <td>0.0</td>\n",
       "      <td>10238</td>\n",
       "      <td>16000.0</td>\n",
       "      <td>sedan</td>\n",
       "      <td>0</td>\n",
       "      <td>0</td>\n",
       "      <td>1</td>\n",
       "      <td>0.0</td>\n",
       "    </tr>\n",
       "    <tr>\n",
       "      <th>9996</th>\n",
       "      <td>910346</td>\n",
       "      <td>26-39</td>\n",
       "      <td>female</td>\n",
       "      <td>majority</td>\n",
       "      <td>10-19y</td>\n",
       "      <td>none</td>\n",
       "      <td>middle class</td>\n",
       "      <td>0.522231</td>\n",
       "      <td>1.0</td>\n",
       "      <td>after 2015</td>\n",
       "      <td>0.0</td>\n",
       "      <td>1.0</td>\n",
       "      <td>32765</td>\n",
       "      <td>NaN</td>\n",
       "      <td>sedan</td>\n",
       "      <td>1</td>\n",
       "      <td>0</td>\n",
       "      <td>0</td>\n",
       "      <td>0.0</td>\n",
       "    </tr>\n",
       "    <tr>\n",
       "      <th>9997</th>\n",
       "      <td>468409</td>\n",
       "      <td>26-39</td>\n",
       "      <td>male</td>\n",
       "      <td>majority</td>\n",
       "      <td>0-9y</td>\n",
       "      <td>high school</td>\n",
       "      <td>middle class</td>\n",
       "      <td>0.470940</td>\n",
       "      <td>1.0</td>\n",
       "      <td>before 2015</td>\n",
       "      <td>0.0</td>\n",
       "      <td>1.0</td>\n",
       "      <td>10238</td>\n",
       "      <td>14000.0</td>\n",
       "      <td>sedan</td>\n",
       "      <td>0</td>\n",
       "      <td>0</td>\n",
       "      <td>0</td>\n",
       "      <td>0.0</td>\n",
       "    </tr>\n",
       "    <tr>\n",
       "      <th>9998</th>\n",
       "      <td>903459</td>\n",
       "      <td>26-39</td>\n",
       "      <td>female</td>\n",
       "      <td>majority</td>\n",
       "      <td>10-19y</td>\n",
       "      <td>high school</td>\n",
       "      <td>poverty</td>\n",
       "      <td>0.364185</td>\n",
       "      <td>0.0</td>\n",
       "      <td>before 2015</td>\n",
       "      <td>0.0</td>\n",
       "      <td>1.0</td>\n",
       "      <td>10238</td>\n",
       "      <td>13000.0</td>\n",
       "      <td>sedan</td>\n",
       "      <td>2</td>\n",
       "      <td>0</td>\n",
       "      <td>1</td>\n",
       "      <td>1.0</td>\n",
       "    </tr>\n",
       "    <tr>\n",
       "      <th>9999</th>\n",
       "      <td>442696</td>\n",
       "      <td>26-39</td>\n",
       "      <td>female</td>\n",
       "      <td>majority</td>\n",
       "      <td>0-9y</td>\n",
       "      <td>none</td>\n",
       "      <td>working class</td>\n",
       "      <td>0.435225</td>\n",
       "      <td>1.0</td>\n",
       "      <td>before 2015</td>\n",
       "      <td>1.0</td>\n",
       "      <td>1.0</td>\n",
       "      <td>10238</td>\n",
       "      <td>13000.0</td>\n",
       "      <td>sedan</td>\n",
       "      <td>0</td>\n",
       "      <td>0</td>\n",
       "      <td>0</td>\n",
       "      <td>0.0</td>\n",
       "    </tr>\n",
       "  </tbody>\n",
       "</table>\n",
       "</div>"
      ],
      "text/plain": [
       "          ID    AGE  GENDER      RACE DRIVING_EXPERIENCE    EDUCATION  \\\n",
       "9995  323164  26-39  female  majority             10-19y   university   \n",
       "9996  910346  26-39  female  majority             10-19y         none   \n",
       "9997  468409  26-39    male  majority               0-9y  high school   \n",
       "9998  903459  26-39  female  majority             10-19y  high school   \n",
       "9999  442696  26-39  female  majority               0-9y         none   \n",
       "\n",
       "             INCOME  CREDIT_SCORE  VEHICLE_OWNERSHIP VEHICLE_YEAR  MARRIED  \\\n",
       "9995    upper class      0.582787                1.0  before 2015      0.0   \n",
       "9996   middle class      0.522231                1.0   after 2015      0.0   \n",
       "9997   middle class      0.470940                1.0  before 2015      0.0   \n",
       "9998        poverty      0.364185                0.0  before 2015      0.0   \n",
       "9999  working class      0.435225                1.0  before 2015      1.0   \n",
       "\n",
       "      CHILDREN  POSTAL_CODE  ANNUAL_MILEAGE VEHICLE_TYPE  SPEEDING_VIOLATIONS  \\\n",
       "9995       0.0        10238         16000.0        sedan                    0   \n",
       "9996       1.0        32765             NaN        sedan                    1   \n",
       "9997       1.0        10238         14000.0        sedan                    0   \n",
       "9998       1.0        10238         13000.0        sedan                    2   \n",
       "9999       1.0        10238         13000.0        sedan                    0   \n",
       "\n",
       "      DUIS  PAST_ACCIDENTS  OUTCOME  \n",
       "9995     0               1      0.0  \n",
       "9996     0               0      0.0  \n",
       "9997     0               0      0.0  \n",
       "9998     0               1      1.0  \n",
       "9999     0               0      0.0  "
      ]
     },
     "execution_count": 11,
     "metadata": {},
     "output_type": "execute_result"
    }
   ],
   "source": [
    "data_raw.tail()"
   ]
  },
  {
   "cell_type": "code",
   "execution_count": 12,
   "metadata": {
    "colab": {
     "base_uri": "https://localhost:8080/"
    },
    "id": "kh3iY0ZXPVj5",
    "outputId": "62845582-158b-479c-c7d2-ec6b653b5e6c"
   },
   "outputs": [
    {
     "name": "stdout",
     "output_type": "stream",
     "text": [
      "<class 'pandas.core.frame.DataFrame'>\n",
      "RangeIndex: 10000 entries, 0 to 9999\n",
      "Data columns (total 19 columns):\n",
      " #   Column               Non-Null Count  Dtype  \n",
      "---  ------               --------------  -----  \n",
      " 0   ID                   10000 non-null  int64  \n",
      " 1   AGE                  10000 non-null  object \n",
      " 2   GENDER               10000 non-null  object \n",
      " 3   RACE                 10000 non-null  object \n",
      " 4   DRIVING_EXPERIENCE   10000 non-null  object \n",
      " 5   EDUCATION            10000 non-null  object \n",
      " 6   INCOME               10000 non-null  object \n",
      " 7   CREDIT_SCORE         9018 non-null   float64\n",
      " 8   VEHICLE_OWNERSHIP    10000 non-null  float64\n",
      " 9   VEHICLE_YEAR         10000 non-null  object \n",
      " 10  MARRIED              10000 non-null  float64\n",
      " 11  CHILDREN             10000 non-null  float64\n",
      " 12  POSTAL_CODE          10000 non-null  int64  \n",
      " 13  ANNUAL_MILEAGE       9043 non-null   float64\n",
      " 14  VEHICLE_TYPE         10000 non-null  object \n",
      " 15  SPEEDING_VIOLATIONS  10000 non-null  int64  \n",
      " 16  DUIS                 10000 non-null  int64  \n",
      " 17  PAST_ACCIDENTS       10000 non-null  int64  \n",
      " 18  OUTCOME              10000 non-null  float64\n",
      "dtypes: float64(6), int64(5), object(8)\n",
      "memory usage: 1.4+ MB\n"
     ]
    }
   ],
   "source": [
    "data_raw.info()"
   ]
  },
  {
   "cell_type": "markdown",
   "metadata": {
    "id": "ADSOSVz6PVj6"
   },
   "source": [
    "Мы видим, что столбцы (признаки) имеют имена\n",
    "\n",
    "` ID` -  идентификатор водителя (числовой)\n",
    "\n",
    "` AGE` - возраст клиента (категориальный)\n",
    "\n",
    "`GENDER` - пол клиента (категориальный)\n",
    "\n",
    "\n",
    "`RACE` - раса (категориальный)\n",
    "\n",
    "`DRIVING_EXPERIENCE` - стаж вождения клиента (категориальный)\n",
    "\n",
    "`EDUCATION` - образование (категориальный)\n",
    "\n",
    "`INCOME` - уровень дохода (категориальный)\n",
    "\n",
    "`CREDIT_SCORE`\t - кредитный рейтинг(числовой)\n",
    "\n",
    "`VEHICLE_OWNERSHIP` - владение транспортным средством (числовой)\n",
    "\n",
    "`VEHICLE_YEAR` - год выпуска транспортного средства(категориальный)\t\n",
    "\n",
    "`MARRIED`- семейное положение (числовой)\n",
    "\n",
    "`CHILDREN` - наличие детей (числовой)\t\n",
    "\n",
    "`POSTAL_CODE` - почтовый индекс (числовой)\n",
    "\n",
    "`ANNUAL_MILEAGE` - пробег автомобиля (числовой)\n",
    "\n",
    "`VEHICLE_TYPE` - тип транспортного средства (категориальный)\t\n",
    "\n",
    "`SPEEDING_VIOLATIONS` - штрафы за превышение скорости (числовой)\t\n",
    "\n",
    "`DUIS` - вождение в нетрезвом виде (числовой)\n",
    "\n",
    "`PAST_ACCIDENTS`- аварии (числовой)\n",
    "\n",
    "`OUTCOME` - результат выдачи страховки (числовой)"
   ]
  },
  {
   "cell_type": "markdown",
   "metadata": {
    "id": "xYDpsaaoZOcO"
   },
   "source": [
    "\n",
    "\n"
   ]
  },
  {
   "cell_type": "markdown",
   "metadata": {
    "id": "eyaChm92PVj7"
   },
   "source": [
    "Заменим тип 'object' на специальный, предназначенный для хранения категориальных значений:"
   ]
  },
  {
   "cell_type": "code",
   "execution_count": 13,
   "metadata": {
    "id": "pcQHbuldPVj7"
   },
   "outputs": [],
   "source": [
    "data_raw_1 = data_raw.copy()\n",
    "data_raw['AGE'] = data_raw['AGE'].astype('category')\n",
    "data_raw['GENDER'] = data_raw['GENDER'].astype('category')\n",
    "data_raw['RACE'] = data_raw['RACE'].astype('category')\n",
    "data_raw['DRIVING_EXPERIENCE'] = data_raw['DRIVING_EXPERIENCE'].astype('category')\n",
    "data_raw['EDUCATION'] = data_raw['EDUCATION'].astype('category')\n",
    "data_raw['INCOME'] = data_raw['INCOME'].astype('category')\n",
    "data_raw['VEHICLE_YEAR'] = data_raw['VEHICLE_YEAR'].astype('category')\n",
    "data_raw['VEHICLE_TYPE'] = data_raw['VEHICLE_TYPE'].astype('category')\n"
   ]
  },
  {
   "cell_type": "code",
   "execution_count": 14,
   "metadata": {
    "colab": {
     "base_uri": "https://localhost:8080/"
    },
    "id": "34plB6hPPVj8",
    "outputId": "c0c0025e-68d8-40ca-f481-3bdd7bdee79c"
   },
   "outputs": [
    {
     "name": "stdout",
     "output_type": "stream",
     "text": [
      "<class 'pandas.core.frame.DataFrame'>\n",
      "RangeIndex: 10000 entries, 0 to 9999\n",
      "Data columns (total 19 columns):\n",
      " #   Column               Non-Null Count  Dtype   \n",
      "---  ------               --------------  -----   \n",
      " 0   ID                   10000 non-null  int64   \n",
      " 1   AGE                  10000 non-null  category\n",
      " 2   GENDER               10000 non-null  category\n",
      " 3   RACE                 10000 non-null  category\n",
      " 4   DRIVING_EXPERIENCE   10000 non-null  category\n",
      " 5   EDUCATION            10000 non-null  category\n",
      " 6   INCOME               10000 non-null  category\n",
      " 7   CREDIT_SCORE         9018 non-null   float64 \n",
      " 8   VEHICLE_OWNERSHIP    10000 non-null  float64 \n",
      " 9   VEHICLE_YEAR         10000 non-null  category\n",
      " 10  MARRIED              10000 non-null  float64 \n",
      " 11  CHILDREN             10000 non-null  float64 \n",
      " 12  POSTAL_CODE          10000 non-null  int64   \n",
      " 13  ANNUAL_MILEAGE       9043 non-null   float64 \n",
      " 14  VEHICLE_TYPE         10000 non-null  category\n",
      " 15  SPEEDING_VIOLATIONS  10000 non-null  int64   \n",
      " 16  DUIS                 10000 non-null  int64   \n",
      " 17  PAST_ACCIDENTS       10000 non-null  int64   \n",
      " 18  OUTCOME              10000 non-null  float64 \n",
      "dtypes: category(8), float64(6), int64(5)\n",
      "memory usage: 938.8 KB\n"
     ]
    }
   ],
   "source": [
    "data_raw.info()\n"
   ]
  },
  {
   "cell_type": "markdown",
   "metadata": {
    "id": "RLKZOYrKPVj8"
   },
   "source": [
    "## Визуализация и описательная статистика"
   ]
  },
  {
   "cell_type": "markdown",
   "metadata": {
    "id": "WpkErHUsaYZj"
   },
   "source": [
    "Сводную информацию о признаках можем получить, вызвав метод `describe`:"
   ]
  },
  {
   "cell_type": "code",
   "execution_count": 15,
   "metadata": {
    "colab": {
     "base_uri": "https://localhost:8080/",
     "height": 344
    },
    "id": "JeZhmpCePVj9",
    "outputId": "089995fa-fb7b-49bf-fdfb-08f6db824089"
   },
   "outputs": [
    {
     "data": {
      "text/html": [
       "<div>\n",
       "<style scoped>\n",
       "    .dataframe tbody tr th:only-of-type {\n",
       "        vertical-align: middle;\n",
       "    }\n",
       "\n",
       "    .dataframe tbody tr th {\n",
       "        vertical-align: top;\n",
       "    }\n",
       "\n",
       "    .dataframe thead th {\n",
       "        text-align: right;\n",
       "    }\n",
       "</style>\n",
       "<table border=\"1\" class=\"dataframe\">\n",
       "  <thead>\n",
       "    <tr style=\"text-align: right;\">\n",
       "      <th></th>\n",
       "      <th>ID</th>\n",
       "      <th>CREDIT_SCORE</th>\n",
       "      <th>VEHICLE_OWNERSHIP</th>\n",
       "      <th>MARRIED</th>\n",
       "      <th>CHILDREN</th>\n",
       "      <th>POSTAL_CODE</th>\n",
       "      <th>ANNUAL_MILEAGE</th>\n",
       "      <th>SPEEDING_VIOLATIONS</th>\n",
       "      <th>DUIS</th>\n",
       "      <th>PAST_ACCIDENTS</th>\n",
       "      <th>OUTCOME</th>\n",
       "    </tr>\n",
       "  </thead>\n",
       "  <tbody>\n",
       "    <tr>\n",
       "      <th>count</th>\n",
       "      <td>10000.000000</td>\n",
       "      <td>9018.000000</td>\n",
       "      <td>10000.000000</td>\n",
       "      <td>10000.000000</td>\n",
       "      <td>10000.000000</td>\n",
       "      <td>10000.000000</td>\n",
       "      <td>9043.000000</td>\n",
       "      <td>10000.000000</td>\n",
       "      <td>10000.00000</td>\n",
       "      <td>10000.000000</td>\n",
       "      <td>10000.000000</td>\n",
       "    </tr>\n",
       "    <tr>\n",
       "      <th>mean</th>\n",
       "      <td>500521.906800</td>\n",
       "      <td>0.515813</td>\n",
       "      <td>0.697000</td>\n",
       "      <td>0.498200</td>\n",
       "      <td>0.688800</td>\n",
       "      <td>19864.548400</td>\n",
       "      <td>11697.003207</td>\n",
       "      <td>1.482900</td>\n",
       "      <td>0.23920</td>\n",
       "      <td>1.056300</td>\n",
       "      <td>0.313300</td>\n",
       "    </tr>\n",
       "    <tr>\n",
       "      <th>std</th>\n",
       "      <td>290030.768758</td>\n",
       "      <td>0.137688</td>\n",
       "      <td>0.459578</td>\n",
       "      <td>0.500022</td>\n",
       "      <td>0.463008</td>\n",
       "      <td>18915.613855</td>\n",
       "      <td>2818.434528</td>\n",
       "      <td>2.241966</td>\n",
       "      <td>0.55499</td>\n",
       "      <td>1.652454</td>\n",
       "      <td>0.463858</td>\n",
       "    </tr>\n",
       "    <tr>\n",
       "      <th>min</th>\n",
       "      <td>101.000000</td>\n",
       "      <td>0.053358</td>\n",
       "      <td>0.000000</td>\n",
       "      <td>0.000000</td>\n",
       "      <td>0.000000</td>\n",
       "      <td>10238.000000</td>\n",
       "      <td>2000.000000</td>\n",
       "      <td>0.000000</td>\n",
       "      <td>0.00000</td>\n",
       "      <td>0.000000</td>\n",
       "      <td>0.000000</td>\n",
       "    </tr>\n",
       "    <tr>\n",
       "      <th>25%</th>\n",
       "      <td>249638.500000</td>\n",
       "      <td>0.417191</td>\n",
       "      <td>0.000000</td>\n",
       "      <td>0.000000</td>\n",
       "      <td>0.000000</td>\n",
       "      <td>10238.000000</td>\n",
       "      <td>10000.000000</td>\n",
       "      <td>0.000000</td>\n",
       "      <td>0.00000</td>\n",
       "      <td>0.000000</td>\n",
       "      <td>0.000000</td>\n",
       "    </tr>\n",
       "    <tr>\n",
       "      <th>50%</th>\n",
       "      <td>501777.000000</td>\n",
       "      <td>0.525033</td>\n",
       "      <td>1.000000</td>\n",
       "      <td>0.000000</td>\n",
       "      <td>1.000000</td>\n",
       "      <td>10238.000000</td>\n",
       "      <td>12000.000000</td>\n",
       "      <td>0.000000</td>\n",
       "      <td>0.00000</td>\n",
       "      <td>0.000000</td>\n",
       "      <td>0.000000</td>\n",
       "    </tr>\n",
       "    <tr>\n",
       "      <th>75%</th>\n",
       "      <td>753974.500000</td>\n",
       "      <td>0.618312</td>\n",
       "      <td>1.000000</td>\n",
       "      <td>1.000000</td>\n",
       "      <td>1.000000</td>\n",
       "      <td>32765.000000</td>\n",
       "      <td>14000.000000</td>\n",
       "      <td>2.000000</td>\n",
       "      <td>0.00000</td>\n",
       "      <td>2.000000</td>\n",
       "      <td>1.000000</td>\n",
       "    </tr>\n",
       "    <tr>\n",
       "      <th>max</th>\n",
       "      <td>999976.000000</td>\n",
       "      <td>0.960819</td>\n",
       "      <td>1.000000</td>\n",
       "      <td>1.000000</td>\n",
       "      <td>1.000000</td>\n",
       "      <td>92101.000000</td>\n",
       "      <td>22000.000000</td>\n",
       "      <td>22.000000</td>\n",
       "      <td>6.00000</td>\n",
       "      <td>15.000000</td>\n",
       "      <td>1.000000</td>\n",
       "    </tr>\n",
       "  </tbody>\n",
       "</table>\n",
       "</div>"
      ],
      "text/plain": [
       "                  ID  CREDIT_SCORE  VEHICLE_OWNERSHIP       MARRIED  \\\n",
       "count   10000.000000   9018.000000       10000.000000  10000.000000   \n",
       "mean   500521.906800      0.515813           0.697000      0.498200   \n",
       "std    290030.768758      0.137688           0.459578      0.500022   \n",
       "min       101.000000      0.053358           0.000000      0.000000   \n",
       "25%    249638.500000      0.417191           0.000000      0.000000   \n",
       "50%    501777.000000      0.525033           1.000000      0.000000   \n",
       "75%    753974.500000      0.618312           1.000000      1.000000   \n",
       "max    999976.000000      0.960819           1.000000      1.000000   \n",
       "\n",
       "           CHILDREN   POSTAL_CODE  ANNUAL_MILEAGE  SPEEDING_VIOLATIONS  \\\n",
       "count  10000.000000  10000.000000     9043.000000         10000.000000   \n",
       "mean       0.688800  19864.548400    11697.003207             1.482900   \n",
       "std        0.463008  18915.613855     2818.434528             2.241966   \n",
       "min        0.000000  10238.000000     2000.000000             0.000000   \n",
       "25%        0.000000  10238.000000    10000.000000             0.000000   \n",
       "50%        1.000000  10238.000000    12000.000000             0.000000   \n",
       "75%        1.000000  32765.000000    14000.000000             2.000000   \n",
       "max        1.000000  92101.000000    22000.000000            22.000000   \n",
       "\n",
       "              DUIS  PAST_ACCIDENTS       OUTCOME  \n",
       "count  10000.00000    10000.000000  10000.000000  \n",
       "mean       0.23920        1.056300      0.313300  \n",
       "std        0.55499        1.652454      0.463858  \n",
       "min        0.00000        0.000000      0.000000  \n",
       "25%        0.00000        0.000000      0.000000  \n",
       "50%        0.00000        0.000000      0.000000  \n",
       "75%        0.00000        2.000000      1.000000  \n",
       "max        6.00000       15.000000      1.000000  "
      ]
     },
     "execution_count": 15,
     "metadata": {},
     "output_type": "execute_result"
    }
   ],
   "source": [
    "data_raw.describe()\n"
   ]
  },
  {
   "cell_type": "markdown",
   "metadata": {
    "id": "3n-3OQf5apWx"
   },
   "source": [
    "Для каждого количественного признака приведены средние значения, стандартное отклонение, минимальное и макимальное значения, медиана и значения квартилей.\n",
    "По умолчанию этот метод дает информацию только о количественных признаках.\n",
    "Получим информацию о категориальных:"
   ]
  },
  {
   "cell_type": "code",
   "execution_count": 16,
   "metadata": {
    "colab": {
     "base_uri": "https://localhost:8080/",
     "height": 175
    },
    "id": "OCtMv-sQPVj-",
    "outputId": "344eca8b-ae5a-454f-a729-969da9a1f3fe"
   },
   "outputs": [
    {
     "data": {
      "text/html": [
       "<div>\n",
       "<style scoped>\n",
       "    .dataframe tbody tr th:only-of-type {\n",
       "        vertical-align: middle;\n",
       "    }\n",
       "\n",
       "    .dataframe tbody tr th {\n",
       "        vertical-align: top;\n",
       "    }\n",
       "\n",
       "    .dataframe thead th {\n",
       "        text-align: right;\n",
       "    }\n",
       "</style>\n",
       "<table border=\"1\" class=\"dataframe\">\n",
       "  <thead>\n",
       "    <tr style=\"text-align: right;\">\n",
       "      <th></th>\n",
       "      <th>AGE</th>\n",
       "      <th>GENDER</th>\n",
       "      <th>RACE</th>\n",
       "      <th>DRIVING_EXPERIENCE</th>\n",
       "      <th>EDUCATION</th>\n",
       "      <th>INCOME</th>\n",
       "      <th>VEHICLE_YEAR</th>\n",
       "      <th>VEHICLE_TYPE</th>\n",
       "    </tr>\n",
       "  </thead>\n",
       "  <tbody>\n",
       "    <tr>\n",
       "      <th>count</th>\n",
       "      <td>10000</td>\n",
       "      <td>10000</td>\n",
       "      <td>10000</td>\n",
       "      <td>10000</td>\n",
       "      <td>10000</td>\n",
       "      <td>10000</td>\n",
       "      <td>10000</td>\n",
       "      <td>10000</td>\n",
       "    </tr>\n",
       "    <tr>\n",
       "      <th>unique</th>\n",
       "      <td>4</td>\n",
       "      <td>2</td>\n",
       "      <td>2</td>\n",
       "      <td>4</td>\n",
       "      <td>3</td>\n",
       "      <td>4</td>\n",
       "      <td>2</td>\n",
       "      <td>2</td>\n",
       "    </tr>\n",
       "    <tr>\n",
       "      <th>top</th>\n",
       "      <td>26-39</td>\n",
       "      <td>female</td>\n",
       "      <td>majority</td>\n",
       "      <td>0-9y</td>\n",
       "      <td>high school</td>\n",
       "      <td>upper class</td>\n",
       "      <td>before 2015</td>\n",
       "      <td>sedan</td>\n",
       "    </tr>\n",
       "    <tr>\n",
       "      <th>freq</th>\n",
       "      <td>3063</td>\n",
       "      <td>5010</td>\n",
       "      <td>9012</td>\n",
       "      <td>3530</td>\n",
       "      <td>4157</td>\n",
       "      <td>4336</td>\n",
       "      <td>6967</td>\n",
       "      <td>9523</td>\n",
       "    </tr>\n",
       "  </tbody>\n",
       "</table>\n",
       "</div>"
      ],
      "text/plain": [
       "          AGE  GENDER      RACE DRIVING_EXPERIENCE    EDUCATION       INCOME  \\\n",
       "count   10000   10000     10000              10000        10000        10000   \n",
       "unique      4       2         2                  4            3            4   \n",
       "top     26-39  female  majority               0-9y  high school  upper class   \n",
       "freq     3063    5010      9012               3530         4157         4336   \n",
       "\n",
       "       VEHICLE_YEAR VEHICLE_TYPE  \n",
       "count         10000        10000  \n",
       "unique            2            2  \n",
       "top     before 2015        sedan  \n",
       "freq           6967         9523  "
      ]
     },
     "execution_count": 16,
     "metadata": {},
     "output_type": "execute_result"
    }
   ],
   "source": [
    "data_raw.describe(include=['category'])"
   ]
  },
  {
   "cell_type": "markdown",
   "metadata": {
    "id": "tDKlYc30PVj_"
   },
   "source": [
    "Видим, что большинство клиентов, запрашивающих страховку ранее не имели нарушений ПДД. Максимальный кредитный рейтинг равен 0.96. Преобладает маленький водительский стаж (0-9), в основном за страховкой обратились люди в возрасте 26-39 лет, большинство обративщихся за страховкой  - женщины. Обратившиеся в основном закончили старшую школу и имеют высокий уровень доходов."
   ]
  },
  {
   "cell_type": "markdown",
   "metadata": {
    "id": "Rqwtas4aPVj_"
   },
   "source": [
    "### Матрица корреляции:"
   ]
  },
  {
   "cell_type": "code",
   "execution_count": 17,
   "metadata": {
    "colab": {
     "base_uri": "https://localhost:8080/",
     "height": 394
    },
    "id": "U91fUrN9PVj_",
    "outputId": "fb2bb0e3-b02a-4637-bf99-d3b2e94bbd1b"
   },
   "outputs": [
    {
     "name": "stderr",
     "output_type": "stream",
     "text": [
      "C:\\Users\\stale\\AppData\\Local\\Temp\\ipykernel_4056\\55681872.py:1: FutureWarning: The default value of numeric_only in DataFrame.corr is deprecated. In a future version, it will default to False. Select only valid columns or specify the value of numeric_only to silence this warning.\n",
      "  corr_mat = data_raw_1.corr()\n"
     ]
    },
    {
     "data": {
      "text/html": [
       "<div>\n",
       "<style scoped>\n",
       "    .dataframe tbody tr th:only-of-type {\n",
       "        vertical-align: middle;\n",
       "    }\n",
       "\n",
       "    .dataframe tbody tr th {\n",
       "        vertical-align: top;\n",
       "    }\n",
       "\n",
       "    .dataframe thead th {\n",
       "        text-align: right;\n",
       "    }\n",
       "</style>\n",
       "<table border=\"1\" class=\"dataframe\">\n",
       "  <thead>\n",
       "    <tr style=\"text-align: right;\">\n",
       "      <th></th>\n",
       "      <th>ID</th>\n",
       "      <th>CREDIT_SCORE</th>\n",
       "      <th>VEHICLE_OWNERSHIP</th>\n",
       "      <th>MARRIED</th>\n",
       "      <th>CHILDREN</th>\n",
       "      <th>POSTAL_CODE</th>\n",
       "      <th>ANNUAL_MILEAGE</th>\n",
       "      <th>SPEEDING_VIOLATIONS</th>\n",
       "      <th>DUIS</th>\n",
       "      <th>PAST_ACCIDENTS</th>\n",
       "      <th>OUTCOME</th>\n",
       "    </tr>\n",
       "  </thead>\n",
       "  <tbody>\n",
       "    <tr>\n",
       "      <th>ID</th>\n",
       "      <td>1.000000</td>\n",
       "      <td>0.001704</td>\n",
       "      <td>0.009197</td>\n",
       "      <td>0.014826</td>\n",
       "      <td>0.001233</td>\n",
       "      <td>0.006038</td>\n",
       "      <td>-0.002217</td>\n",
       "      <td>0.008156</td>\n",
       "      <td>0.009268</td>\n",
       "      <td>0.001831</td>\n",
       "      <td>-0.010506</td>\n",
       "    </tr>\n",
       "    <tr>\n",
       "      <th>CREDIT_SCORE</th>\n",
       "      <td>0.001704</td>\n",
       "      <td>1.000000</td>\n",
       "      <td>0.312037</td>\n",
       "      <td>0.281238</td>\n",
       "      <td>0.220658</td>\n",
       "      <td>0.009040</td>\n",
       "      <td>-0.174453</td>\n",
       "      <td>0.204542</td>\n",
       "      <td>0.127366</td>\n",
       "      <td>0.180978</td>\n",
       "      <td>-0.325286</td>\n",
       "    </tr>\n",
       "    <tr>\n",
       "      <th>VEHICLE_OWNERSHIP</th>\n",
       "      <td>0.009197</td>\n",
       "      <td>0.312037</td>\n",
       "      <td>1.000000</td>\n",
       "      <td>0.175626</td>\n",
       "      <td>0.125990</td>\n",
       "      <td>-0.004866</td>\n",
       "      <td>-0.097433</td>\n",
       "      <td>0.133868</td>\n",
       "      <td>0.086567</td>\n",
       "      <td>0.119521</td>\n",
       "      <td>-0.378921</td>\n",
       "    </tr>\n",
       "    <tr>\n",
       "      <th>MARRIED</th>\n",
       "      <td>0.014826</td>\n",
       "      <td>0.281238</td>\n",
       "      <td>0.175626</td>\n",
       "      <td>1.000000</td>\n",
       "      <td>0.287009</td>\n",
       "      <td>0.012045</td>\n",
       "      <td>-0.462193</td>\n",
       "      <td>0.218855</td>\n",
       "      <td>0.120840</td>\n",
       "      <td>0.215269</td>\n",
       "      <td>-0.262104</td>\n",
       "    </tr>\n",
       "    <tr>\n",
       "      <th>CHILDREN</th>\n",
       "      <td>0.001233</td>\n",
       "      <td>0.220658</td>\n",
       "      <td>0.125990</td>\n",
       "      <td>0.287009</td>\n",
       "      <td>1.000000</td>\n",
       "      <td>0.020911</td>\n",
       "      <td>-0.447655</td>\n",
       "      <td>0.220415</td>\n",
       "      <td>0.115354</td>\n",
       "      <td>0.206295</td>\n",
       "      <td>-0.232835</td>\n",
       "    </tr>\n",
       "    <tr>\n",
       "      <th>POSTAL_CODE</th>\n",
       "      <td>0.006038</td>\n",
       "      <td>0.009040</td>\n",
       "      <td>-0.004866</td>\n",
       "      <td>0.012045</td>\n",
       "      <td>0.020911</td>\n",
       "      <td>1.000000</td>\n",
       "      <td>-0.133978</td>\n",
       "      <td>0.113686</td>\n",
       "      <td>0.038492</td>\n",
       "      <td>-0.116985</td>\n",
       "      <td>0.095889</td>\n",
       "    </tr>\n",
       "    <tr>\n",
       "      <th>ANNUAL_MILEAGE</th>\n",
       "      <td>-0.002217</td>\n",
       "      <td>-0.174453</td>\n",
       "      <td>-0.097433</td>\n",
       "      <td>-0.462193</td>\n",
       "      <td>-0.447655</td>\n",
       "      <td>-0.133978</td>\n",
       "      <td>1.000000</td>\n",
       "      <td>-0.323547</td>\n",
       "      <td>-0.116598</td>\n",
       "      <td>-0.195217</td>\n",
       "      <td>0.187154</td>\n",
       "    </tr>\n",
       "    <tr>\n",
       "      <th>SPEEDING_VIOLATIONS</th>\n",
       "      <td>0.008156</td>\n",
       "      <td>0.204542</td>\n",
       "      <td>0.133868</td>\n",
       "      <td>0.218855</td>\n",
       "      <td>0.220415</td>\n",
       "      <td>0.113686</td>\n",
       "      <td>-0.323547</td>\n",
       "      <td>1.000000</td>\n",
       "      <td>0.359838</td>\n",
       "      <td>0.443074</td>\n",
       "      <td>-0.291862</td>\n",
       "    </tr>\n",
       "    <tr>\n",
       "      <th>DUIS</th>\n",
       "      <td>0.009268</td>\n",
       "      <td>0.127366</td>\n",
       "      <td>0.086567</td>\n",
       "      <td>0.120840</td>\n",
       "      <td>0.115354</td>\n",
       "      <td>0.038492</td>\n",
       "      <td>-0.116598</td>\n",
       "      <td>0.359838</td>\n",
       "      <td>1.000000</td>\n",
       "      <td>0.259359</td>\n",
       "      <td>-0.189352</td>\n",
       "    </tr>\n",
       "    <tr>\n",
       "      <th>PAST_ACCIDENTS</th>\n",
       "      <td>0.001831</td>\n",
       "      <td>0.180978</td>\n",
       "      <td>0.119521</td>\n",
       "      <td>0.215269</td>\n",
       "      <td>0.206295</td>\n",
       "      <td>-0.116985</td>\n",
       "      <td>-0.195217</td>\n",
       "      <td>0.443074</td>\n",
       "      <td>0.259359</td>\n",
       "      <td>1.000000</td>\n",
       "      <td>-0.311495</td>\n",
       "    </tr>\n",
       "    <tr>\n",
       "      <th>OUTCOME</th>\n",
       "      <td>-0.010506</td>\n",
       "      <td>-0.325286</td>\n",
       "      <td>-0.378921</td>\n",
       "      <td>-0.262104</td>\n",
       "      <td>-0.232835</td>\n",
       "      <td>0.095889</td>\n",
       "      <td>0.187154</td>\n",
       "      <td>-0.291862</td>\n",
       "      <td>-0.189352</td>\n",
       "      <td>-0.311495</td>\n",
       "      <td>1.000000</td>\n",
       "    </tr>\n",
       "  </tbody>\n",
       "</table>\n",
       "</div>"
      ],
      "text/plain": [
       "                           ID  CREDIT_SCORE  VEHICLE_OWNERSHIP   MARRIED  \\\n",
       "ID                   1.000000      0.001704           0.009197  0.014826   \n",
       "CREDIT_SCORE         0.001704      1.000000           0.312037  0.281238   \n",
       "VEHICLE_OWNERSHIP    0.009197      0.312037           1.000000  0.175626   \n",
       "MARRIED              0.014826      0.281238           0.175626  1.000000   \n",
       "CHILDREN             0.001233      0.220658           0.125990  0.287009   \n",
       "POSTAL_CODE          0.006038      0.009040          -0.004866  0.012045   \n",
       "ANNUAL_MILEAGE      -0.002217     -0.174453          -0.097433 -0.462193   \n",
       "SPEEDING_VIOLATIONS  0.008156      0.204542           0.133868  0.218855   \n",
       "DUIS                 0.009268      0.127366           0.086567  0.120840   \n",
       "PAST_ACCIDENTS       0.001831      0.180978           0.119521  0.215269   \n",
       "OUTCOME             -0.010506     -0.325286          -0.378921 -0.262104   \n",
       "\n",
       "                     CHILDREN  POSTAL_CODE  ANNUAL_MILEAGE  \\\n",
       "ID                   0.001233     0.006038       -0.002217   \n",
       "CREDIT_SCORE         0.220658     0.009040       -0.174453   \n",
       "VEHICLE_OWNERSHIP    0.125990    -0.004866       -0.097433   \n",
       "MARRIED              0.287009     0.012045       -0.462193   \n",
       "CHILDREN             1.000000     0.020911       -0.447655   \n",
       "POSTAL_CODE          0.020911     1.000000       -0.133978   \n",
       "ANNUAL_MILEAGE      -0.447655    -0.133978        1.000000   \n",
       "SPEEDING_VIOLATIONS  0.220415     0.113686       -0.323547   \n",
       "DUIS                 0.115354     0.038492       -0.116598   \n",
       "PAST_ACCIDENTS       0.206295    -0.116985       -0.195217   \n",
       "OUTCOME             -0.232835     0.095889        0.187154   \n",
       "\n",
       "                     SPEEDING_VIOLATIONS      DUIS  PAST_ACCIDENTS   OUTCOME  \n",
       "ID                              0.008156  0.009268        0.001831 -0.010506  \n",
       "CREDIT_SCORE                    0.204542  0.127366        0.180978 -0.325286  \n",
       "VEHICLE_OWNERSHIP               0.133868  0.086567        0.119521 -0.378921  \n",
       "MARRIED                         0.218855  0.120840        0.215269 -0.262104  \n",
       "CHILDREN                        0.220415  0.115354        0.206295 -0.232835  \n",
       "POSTAL_CODE                     0.113686  0.038492       -0.116985  0.095889  \n",
       "ANNUAL_MILEAGE                 -0.323547 -0.116598       -0.195217  0.187154  \n",
       "SPEEDING_VIOLATIONS             1.000000  0.359838        0.443074 -0.291862  \n",
       "DUIS                            0.359838  1.000000        0.259359 -0.189352  \n",
       "PAST_ACCIDENTS                  0.443074  0.259359        1.000000 -0.311495  \n",
       "OUTCOME                        -0.291862 -0.189352       -0.311495  1.000000  "
      ]
     },
     "execution_count": 17,
     "metadata": {},
     "output_type": "execute_result"
    }
   ],
   "source": [
    "corr_mat = data_raw_1.corr()\n",
    "corr_mat"
   ]
  },
  {
   "cell_type": "markdown",
   "metadata": {
    "id": "rLEWbd7xPVkA"
   },
   "source": [
    "Удобно использовать визуальный образ этой матрицы. Чем светлее ячейка, тем больше по абсолютной величине коэффициент корреляции:"
   ]
  },
  {
   "cell_type": "code",
   "execution_count": 18,
   "metadata": {
    "colab": {
     "base_uri": "https://localhost:8080/",
     "height": 375
    },
    "id": "K5XSTMkJPVkB",
    "outputId": "0faf3e0e-0137-4c2a-be92-64c95cff6fba"
   },
   "outputs": [
    {
     "data": {
      "image/png": "[encoded data removed]",
      "text/plain": [
       "<Figure size 640x480 with 2 Axes>"
      ]
     },
     "metadata": {},
     "output_type": "display_data"
    }
   ],
   "source": [
    "sns.heatmap(corr_mat, square=True, cmap='coolwarm')\n",
    "pass"
   ]
  },
  {
   "cell_type": "markdown",
   "metadata": {
    "id": "8VZW9InCPVkC"
   },
   "source": [
    "Выведем коэффициенты корреляции, большие заданного значения:"
   ]
  },
  {
   "cell_type": "code",
   "execution_count": 19,
   "metadata": {
    "colab": {
     "base_uri": "https://localhost:8080/",
     "height": 394
    },
    "id": "-wAWD8dxPVkC",
    "outputId": "c755de3d-214c-4b6d-c9ce-f9f74161a864"
   },
   "outputs": [
    {
     "data": {
      "text/html": [
       "<div>\n",
       "<style scoped>\n",
       "    .dataframe tbody tr th:only-of-type {\n",
       "        vertical-align: middle;\n",
       "    }\n",
       "\n",
       "    .dataframe tbody tr th {\n",
       "        vertical-align: top;\n",
       "    }\n",
       "\n",
       "    .dataframe thead th {\n",
       "        text-align: right;\n",
       "    }\n",
       "</style>\n",
       "<table border=\"1\" class=\"dataframe\">\n",
       "  <thead>\n",
       "    <tr style=\"text-align: right;\">\n",
       "      <th></th>\n",
       "      <th>ID</th>\n",
       "      <th>CREDIT_SCORE</th>\n",
       "      <th>VEHICLE_OWNERSHIP</th>\n",
       "      <th>MARRIED</th>\n",
       "      <th>CHILDREN</th>\n",
       "      <th>POSTAL_CODE</th>\n",
       "      <th>ANNUAL_MILEAGE</th>\n",
       "      <th>SPEEDING_VIOLATIONS</th>\n",
       "      <th>DUIS</th>\n",
       "      <th>PAST_ACCIDENTS</th>\n",
       "      <th>OUTCOME</th>\n",
       "    </tr>\n",
       "  </thead>\n",
       "  <tbody>\n",
       "    <tr>\n",
       "      <th>ID</th>\n",
       "      <td>True</td>\n",
       "      <td>False</td>\n",
       "      <td>False</td>\n",
       "      <td>False</td>\n",
       "      <td>False</td>\n",
       "      <td>False</td>\n",
       "      <td>False</td>\n",
       "      <td>False</td>\n",
       "      <td>False</td>\n",
       "      <td>False</td>\n",
       "      <td>False</td>\n",
       "    </tr>\n",
       "    <tr>\n",
       "      <th>CREDIT_SCORE</th>\n",
       "      <td>False</td>\n",
       "      <td>True</td>\n",
       "      <td>False</td>\n",
       "      <td>False</td>\n",
       "      <td>False</td>\n",
       "      <td>False</td>\n",
       "      <td>False</td>\n",
       "      <td>False</td>\n",
       "      <td>False</td>\n",
       "      <td>False</td>\n",
       "      <td>False</td>\n",
       "    </tr>\n",
       "    <tr>\n",
       "      <th>VEHICLE_OWNERSHIP</th>\n",
       "      <td>False</td>\n",
       "      <td>False</td>\n",
       "      <td>True</td>\n",
       "      <td>False</td>\n",
       "      <td>False</td>\n",
       "      <td>False</td>\n",
       "      <td>False</td>\n",
       "      <td>False</td>\n",
       "      <td>False</td>\n",
       "      <td>False</td>\n",
       "      <td>False</td>\n",
       "    </tr>\n",
       "    <tr>\n",
       "      <th>MARRIED</th>\n",
       "      <td>False</td>\n",
       "      <td>False</td>\n",
       "      <td>False</td>\n",
       "      <td>True</td>\n",
       "      <td>False</td>\n",
       "      <td>False</td>\n",
       "      <td>False</td>\n",
       "      <td>False</td>\n",
       "      <td>False</td>\n",
       "      <td>False</td>\n",
       "      <td>False</td>\n",
       "    </tr>\n",
       "    <tr>\n",
       "      <th>CHILDREN</th>\n",
       "      <td>False</td>\n",
       "      <td>False</td>\n",
       "      <td>False</td>\n",
       "      <td>False</td>\n",
       "      <td>True</td>\n",
       "      <td>False</td>\n",
       "      <td>False</td>\n",
       "      <td>False</td>\n",
       "      <td>False</td>\n",
       "      <td>False</td>\n",
       "      <td>False</td>\n",
       "    </tr>\n",
       "    <tr>\n",
       "      <th>POSTAL_CODE</th>\n",
       "      <td>False</td>\n",
       "      <td>False</td>\n",
       "      <td>False</td>\n",
       "      <td>False</td>\n",
       "      <td>False</td>\n",
       "      <td>True</td>\n",
       "      <td>False</td>\n",
       "      <td>False</td>\n",
       "      <td>False</td>\n",
       "      <td>False</td>\n",
       "      <td>False</td>\n",
       "    </tr>\n",
       "    <tr>\n",
       "      <th>ANNUAL_MILEAGE</th>\n",
       "      <td>False</td>\n",
       "      <td>False</td>\n",
       "      <td>False</td>\n",
       "      <td>False</td>\n",
       "      <td>False</td>\n",
       "      <td>False</td>\n",
       "      <td>True</td>\n",
       "      <td>False</td>\n",
       "      <td>False</td>\n",
       "      <td>False</td>\n",
       "      <td>False</td>\n",
       "    </tr>\n",
       "    <tr>\n",
       "      <th>SPEEDING_VIOLATIONS</th>\n",
       "      <td>False</td>\n",
       "      <td>False</td>\n",
       "      <td>False</td>\n",
       "      <td>False</td>\n",
       "      <td>False</td>\n",
       "      <td>False</td>\n",
       "      <td>False</td>\n",
       "      <td>True</td>\n",
       "      <td>False</td>\n",
       "      <td>True</td>\n",
       "      <td>False</td>\n",
       "    </tr>\n",
       "    <tr>\n",
       "      <th>DUIS</th>\n",
       "      <td>False</td>\n",
       "      <td>False</td>\n",
       "      <td>False</td>\n",
       "      <td>False</td>\n",
       "      <td>False</td>\n",
       "      <td>False</td>\n",
       "      <td>False</td>\n",
       "      <td>False</td>\n",
       "      <td>True</td>\n",
       "      <td>False</td>\n",
       "      <td>False</td>\n",
       "    </tr>\n",
       "    <tr>\n",
       "      <th>PAST_ACCIDENTS</th>\n",
       "      <td>False</td>\n",
       "      <td>False</td>\n",
       "      <td>False</td>\n",
       "      <td>False</td>\n",
       "      <td>False</td>\n",
       "      <td>False</td>\n",
       "      <td>False</td>\n",
       "      <td>True</td>\n",
       "      <td>False</td>\n",
       "      <td>True</td>\n",
       "      <td>False</td>\n",
       "    </tr>\n",
       "    <tr>\n",
       "      <th>OUTCOME</th>\n",
       "      <td>False</td>\n",
       "      <td>False</td>\n",
       "      <td>False</td>\n",
       "      <td>False</td>\n",
       "      <td>False</td>\n",
       "      <td>False</td>\n",
       "      <td>False</td>\n",
       "      <td>False</td>\n",
       "      <td>False</td>\n",
       "      <td>False</td>\n",
       "      <td>True</td>\n",
       "    </tr>\n",
       "  </tbody>\n",
       "</table>\n",
       "</div>"
      ],
      "text/plain": [
       "                        ID  CREDIT_SCORE  VEHICLE_OWNERSHIP  MARRIED  \\\n",
       "ID                    True         False              False    False   \n",
       "CREDIT_SCORE         False          True              False    False   \n",
       "VEHICLE_OWNERSHIP    False         False               True    False   \n",
       "MARRIED              False         False              False     True   \n",
       "CHILDREN             False         False              False    False   \n",
       "POSTAL_CODE          False         False              False    False   \n",
       "ANNUAL_MILEAGE       False         False              False    False   \n",
       "SPEEDING_VIOLATIONS  False         False              False    False   \n",
       "DUIS                 False         False              False    False   \n",
       "PAST_ACCIDENTS       False         False              False    False   \n",
       "OUTCOME              False         False              False    False   \n",
       "\n",
       "                     CHILDREN  POSTAL_CODE  ANNUAL_MILEAGE  \\\n",
       "ID                      False        False           False   \n",
       "CREDIT_SCORE            False        False           False   \n",
       "VEHICLE_OWNERSHIP       False        False           False   \n",
       "MARRIED                 False        False           False   \n",
       "CHILDREN                 True        False           False   \n",
       "POSTAL_CODE             False         True           False   \n",
       "ANNUAL_MILEAGE          False        False            True   \n",
       "SPEEDING_VIOLATIONS     False        False           False   \n",
       "DUIS                    False        False           False   \n",
       "PAST_ACCIDENTS          False        False           False   \n",
       "OUTCOME                 False        False           False   \n",
       "\n",
       "                     SPEEDING_VIOLATIONS   DUIS  PAST_ACCIDENTS  OUTCOME  \n",
       "ID                                 False  False           False    False  \n",
       "CREDIT_SCORE                       False  False           False    False  \n",
       "VEHICLE_OWNERSHIP                  False  False           False    False  \n",
       "MARRIED                            False  False           False    False  \n",
       "CHILDREN                           False  False           False    False  \n",
       "POSTAL_CODE                        False  False           False    False  \n",
       "ANNUAL_MILEAGE                     False  False           False    False  \n",
       "SPEEDING_VIOLATIONS                 True  False            True    False  \n",
       "DUIS                               False   True           False    False  \n",
       "PAST_ACCIDENTS                      True  False            True    False  \n",
       "OUTCOME                            False  False           False     True  "
      ]
     },
     "execution_count": 19,
     "metadata": {},
     "output_type": "execute_result"
    }
   ],
   "source": [
    "corr_mat >= 0.4"
   ]
  },
  {
   "cell_type": "markdown",
   "metadata": {
    "id": "mWE7N6RbPVkD"
   },
   "source": [
    "Положительная корреляция существует, когда одна переменная уменьшается по мере уменьшения другой переменной или одна переменная увеличивается по мере увеличения другой.Видим, что с признаком `DUIS`  связаны признаки `SPEEDING_VIOLATIONS`и `PAST_ACCIDENTS`, потому что  вождение в нетрезвом виде увеличивает вероятность превышения скорости и создания аварийных ситуаций. "
   ]
  },
  {
   "cell_type": "code",
   "execution_count": 20,
   "metadata": {
    "colab": {
     "base_uri": "https://localhost:8080/"
    },
    "id": "4Mym71jIPVkD",
    "outputId": "5b639a7f-a63e-4747-b0fd-c9e9da07874f"
   },
   "outputs": [
    {
     "data": {
      "text/plain": [
       "SPEEDING_VIOLATIONS  PAST_ACCIDENTS    0.443074\n",
       "                     DUIS              0.359838\n",
       "dtype: float64"
      ]
     },
     "execution_count": 20,
     "metadata": {},
     "output_type": "execute_result"
    }
   ],
   "source": [
    "corr_mat.where(np.triu(corr_mat >= 0.35, k=1)).stack().sort_values(ascending=False)"
   ]
  },
  {
   "cell_type": "code",
   "execution_count": 21,
   "metadata": {
    "colab": {
     "base_uri": "https://localhost:8080/",
     "height": 394
    },
    "id": "RgnWWKdtPVkD",
    "outputId": "1991e3a8-74fc-4399-da52-3d78a284a074"
   },
   "outputs": [
    {
     "data": {
      "text/html": [
       "<div>\n",
       "<style scoped>\n",
       "    .dataframe tbody tr th:only-of-type {\n",
       "        vertical-align: middle;\n",
       "    }\n",
       "\n",
       "    .dataframe tbody tr th {\n",
       "        vertical-align: top;\n",
       "    }\n",
       "\n",
       "    .dataframe thead th {\n",
       "        text-align: right;\n",
       "    }\n",
       "</style>\n",
       "<table border=\"1\" class=\"dataframe\">\n",
       "  <thead>\n",
       "    <tr style=\"text-align: right;\">\n",
       "      <th></th>\n",
       "      <th>ID</th>\n",
       "      <th>CREDIT_SCORE</th>\n",
       "      <th>VEHICLE_OWNERSHIP</th>\n",
       "      <th>MARRIED</th>\n",
       "      <th>CHILDREN</th>\n",
       "      <th>POSTAL_CODE</th>\n",
       "      <th>ANNUAL_MILEAGE</th>\n",
       "      <th>SPEEDING_VIOLATIONS</th>\n",
       "      <th>DUIS</th>\n",
       "      <th>PAST_ACCIDENTS</th>\n",
       "      <th>OUTCOME</th>\n",
       "    </tr>\n",
       "  </thead>\n",
       "  <tbody>\n",
       "    <tr>\n",
       "      <th>ID</th>\n",
       "      <td>False</td>\n",
       "      <td>False</td>\n",
       "      <td>False</td>\n",
       "      <td>False</td>\n",
       "      <td>False</td>\n",
       "      <td>False</td>\n",
       "      <td>False</td>\n",
       "      <td>False</td>\n",
       "      <td>False</td>\n",
       "      <td>False</td>\n",
       "      <td>False</td>\n",
       "    </tr>\n",
       "    <tr>\n",
       "      <th>CREDIT_SCORE</th>\n",
       "      <td>False</td>\n",
       "      <td>False</td>\n",
       "      <td>False</td>\n",
       "      <td>False</td>\n",
       "      <td>False</td>\n",
       "      <td>False</td>\n",
       "      <td>False</td>\n",
       "      <td>False</td>\n",
       "      <td>False</td>\n",
       "      <td>False</td>\n",
       "      <td>True</td>\n",
       "    </tr>\n",
       "    <tr>\n",
       "      <th>VEHICLE_OWNERSHIP</th>\n",
       "      <td>False</td>\n",
       "      <td>False</td>\n",
       "      <td>False</td>\n",
       "      <td>False</td>\n",
       "      <td>False</td>\n",
       "      <td>False</td>\n",
       "      <td>False</td>\n",
       "      <td>False</td>\n",
       "      <td>False</td>\n",
       "      <td>False</td>\n",
       "      <td>True</td>\n",
       "    </tr>\n",
       "    <tr>\n",
       "      <th>MARRIED</th>\n",
       "      <td>False</td>\n",
       "      <td>False</td>\n",
       "      <td>False</td>\n",
       "      <td>False</td>\n",
       "      <td>False</td>\n",
       "      <td>False</td>\n",
       "      <td>True</td>\n",
       "      <td>False</td>\n",
       "      <td>False</td>\n",
       "      <td>False</td>\n",
       "      <td>False</td>\n",
       "    </tr>\n",
       "    <tr>\n",
       "      <th>CHILDREN</th>\n",
       "      <td>False</td>\n",
       "      <td>False</td>\n",
       "      <td>False</td>\n",
       "      <td>False</td>\n",
       "      <td>False</td>\n",
       "      <td>False</td>\n",
       "      <td>True</td>\n",
       "      <td>False</td>\n",
       "      <td>False</td>\n",
       "      <td>False</td>\n",
       "      <td>False</td>\n",
       "    </tr>\n",
       "    <tr>\n",
       "      <th>POSTAL_CODE</th>\n",
       "      <td>False</td>\n",
       "      <td>False</td>\n",
       "      <td>False</td>\n",
       "      <td>False</td>\n",
       "      <td>False</td>\n",
       "      <td>False</td>\n",
       "      <td>False</td>\n",
       "      <td>False</td>\n",
       "      <td>False</td>\n",
       "      <td>False</td>\n",
       "      <td>False</td>\n",
       "    </tr>\n",
       "    <tr>\n",
       "      <th>ANNUAL_MILEAGE</th>\n",
       "      <td>False</td>\n",
       "      <td>False</td>\n",
       "      <td>False</td>\n",
       "      <td>True</td>\n",
       "      <td>True</td>\n",
       "      <td>False</td>\n",
       "      <td>False</td>\n",
       "      <td>True</td>\n",
       "      <td>False</td>\n",
       "      <td>False</td>\n",
       "      <td>False</td>\n",
       "    </tr>\n",
       "    <tr>\n",
       "      <th>SPEEDING_VIOLATIONS</th>\n",
       "      <td>False</td>\n",
       "      <td>False</td>\n",
       "      <td>False</td>\n",
       "      <td>False</td>\n",
       "      <td>False</td>\n",
       "      <td>False</td>\n",
       "      <td>True</td>\n",
       "      <td>False</td>\n",
       "      <td>False</td>\n",
       "      <td>False</td>\n",
       "      <td>False</td>\n",
       "    </tr>\n",
       "    <tr>\n",
       "      <th>DUIS</th>\n",
       "      <td>False</td>\n",
       "      <td>False</td>\n",
       "      <td>False</td>\n",
       "      <td>False</td>\n",
       "      <td>False</td>\n",
       "      <td>False</td>\n",
       "      <td>False</td>\n",
       "      <td>False</td>\n",
       "      <td>False</td>\n",
       "      <td>False</td>\n",
       "      <td>False</td>\n",
       "    </tr>\n",
       "    <tr>\n",
       "      <th>PAST_ACCIDENTS</th>\n",
       "      <td>False</td>\n",
       "      <td>False</td>\n",
       "      <td>False</td>\n",
       "      <td>False</td>\n",
       "      <td>False</td>\n",
       "      <td>False</td>\n",
       "      <td>False</td>\n",
       "      <td>False</td>\n",
       "      <td>False</td>\n",
       "      <td>False</td>\n",
       "      <td>True</td>\n",
       "    </tr>\n",
       "    <tr>\n",
       "      <th>OUTCOME</th>\n",
       "      <td>False</td>\n",
       "      <td>True</td>\n",
       "      <td>True</td>\n",
       "      <td>False</td>\n",
       "      <td>False</td>\n",
       "      <td>False</td>\n",
       "      <td>False</td>\n",
       "      <td>False</td>\n",
       "      <td>False</td>\n",
       "      <td>True</td>\n",
       "      <td>False</td>\n",
       "    </tr>\n",
       "  </tbody>\n",
       "</table>\n",
       "</div>"
      ],
      "text/plain": [
       "                        ID  CREDIT_SCORE  VEHICLE_OWNERSHIP  MARRIED  \\\n",
       "ID                   False         False              False    False   \n",
       "CREDIT_SCORE         False         False              False    False   \n",
       "VEHICLE_OWNERSHIP    False         False              False    False   \n",
       "MARRIED              False         False              False    False   \n",
       "CHILDREN             False         False              False    False   \n",
       "POSTAL_CODE          False         False              False    False   \n",
       "ANNUAL_MILEAGE       False         False              False     True   \n",
       "SPEEDING_VIOLATIONS  False         False              False    False   \n",
       "DUIS                 False         False              False    False   \n",
       "PAST_ACCIDENTS       False         False              False    False   \n",
       "OUTCOME              False          True               True    False   \n",
       "\n",
       "                     CHILDREN  POSTAL_CODE  ANNUAL_MILEAGE  \\\n",
       "ID                      False        False           False   \n",
       "CREDIT_SCORE            False        False           False   \n",
       "VEHICLE_OWNERSHIP       False        False           False   \n",
       "MARRIED                 False        False            True   \n",
       "CHILDREN                False        False            True   \n",
       "POSTAL_CODE             False        False           False   \n",
       "ANNUAL_MILEAGE           True        False           False   \n",
       "SPEEDING_VIOLATIONS     False        False            True   \n",
       "DUIS                    False        False           False   \n",
       "PAST_ACCIDENTS          False        False           False   \n",
       "OUTCOME                 False        False           False   \n",
       "\n",
       "                     SPEEDING_VIOLATIONS   DUIS  PAST_ACCIDENTS  OUTCOME  \n",
       "ID                                 False  False           False    False  \n",
       "CREDIT_SCORE                       False  False           False     True  \n",
       "VEHICLE_OWNERSHIP                  False  False           False     True  \n",
       "MARRIED                            False  False           False    False  \n",
       "CHILDREN                           False  False           False    False  \n",
       "POSTAL_CODE                        False  False           False    False  \n",
       "ANNUAL_MILEAGE                      True  False           False    False  \n",
       "SPEEDING_VIOLATIONS                False  False           False    False  \n",
       "DUIS                               False  False           False    False  \n",
       "PAST_ACCIDENTS                     False  False           False     True  \n",
       "OUTCOME                            False  False            True    False  "
      ]
     },
     "execution_count": 21,
     "metadata": {},
     "output_type": "execute_result"
    }
   ],
   "source": [
    "corr_mat <= -0.3\n"
   ]
  },
  {
   "cell_type": "markdown",
   "metadata": {
    "id": "LM24F_3GPVkE"
   },
   "source": [
    "Некоторые виды коэффициентов корреляции могут быть положительными или отрицательными.Отрицательная корреляция — корреляция, при которой увеличение одной переменной связано с уменьшением другой. Мы видим взаимосвязь признаков `PAST_ACCIDENTS` и `OUTCOME`: компании не выгодно выдавать страховку водителям, которые часто попадают в аварии. Так же можно проследить обратную связь признаков `SPEEDING_VIOLATIONS` и `CHILDREN`: люди, у которых есть дети водят аккуратнее. "
   ]
  },
  {
   "cell_type": "code",
   "execution_count": 22,
   "metadata": {
    "colab": {
     "base_uri": "https://localhost:8080/"
    },
    "id": "KX_kjcJpPVkE",
    "outputId": "74905ea6-aaa1-4d60-aa67-403976d1910f"
   },
   "outputs": [
    {
     "data": {
      "text/plain": [
       "PAST_ACCIDENTS     OUTCOME               -0.311495\n",
       "ANNUAL_MILEAGE     SPEEDING_VIOLATIONS   -0.323547\n",
       "CREDIT_SCORE       OUTCOME               -0.325286\n",
       "VEHICLE_OWNERSHIP  OUTCOME               -0.378921\n",
       "CHILDREN           ANNUAL_MILEAGE        -0.447655\n",
       "MARRIED            ANNUAL_MILEAGE        -0.462193\n",
       "dtype: float64"
      ]
     },
     "execution_count": 22,
     "metadata": {},
     "output_type": "execute_result"
    }
   ],
   "source": [
    "corr_mat.where(np.triu(corr_mat <= -0.3, k=1)).stack().sort_values(ascending=False)"
   ]
  },
  {
   "cell_type": "markdown",
   "metadata": {
    "id": "e7LwEJgOPVkE"
   },
   "source": [
    "Построим диаграммы рассеивания:\n"
   ]
  },
  {
   "cell_type": "code",
   "execution_count": 23,
   "metadata": {
    "colab": {
     "base_uri": "https://localhost:8080/",
     "height": 265
    },
    "id": "daBku0RkPVkE",
    "outputId": "b72f240c-989d-4acc-ec26-8ea567c09014"
   },
   "outputs": [
    {
     "data": {
      "image/png": "[encoded data removed]",
      "text/plain": [
       "<Figure size 640x480 with 1 Axes>"
      ]
     },
     "metadata": {},
     "output_type": "display_data"
    }
   ],
   "source": [
    "plt.scatter(data_raw['SPEEDING_VIOLATIONS'], data_raw['DUIS'], alpha=0.4)\n",
    "pass"
   ]
  },
  {
   "cell_type": "code",
   "execution_count": 24,
   "metadata": {
    "colab": {
     "base_uri": "https://localhost:8080/",
     "height": 265
    },
    "id": "3arrDQqfPVkE",
    "outputId": "d62bcd78-b299-4a1b-9fd4-3da9d7cef35e"
   },
   "outputs": [
    {
     "data": {
      "image/png": "[encoded data removed]",
      "text/plain": [
       "<Figure size 640x480 with 1 Axes>"
      ]
     },
     "metadata": {},
     "output_type": "display_data"
    }
   ],
   "source": [
    "plt.scatter(data_raw['SPEEDING_VIOLATIONS'], data_raw['PAST_ACCIDENTS'], alpha=0.4)\n",
    "pass"
   ]
  },
  {
   "cell_type": "markdown",
   "metadata": {
    "id": "8SAdEf_iPVkF"
   },
   "source": [
    "##Построим гистoграммы :"
   ]
  },
  {
   "cell_type": "code",
   "execution_count": 25,
   "metadata": {
    "colab": {
     "base_uri": "https://localhost:8080/",
     "height": 279
    },
    "id": "kTqhtwNoYHXc",
    "outputId": "0848ba82-36bc-4269-91e4-03ce9e035e7b"
   },
   "outputs": [
    {
     "data": {
      "image/png": "[encoded data removed]",
      "text/plain": [
       "<Figure size 640x480 with 1 Axes>"
      ]
     },
     "metadata": {},
     "output_type": "display_data"
    }
   ],
   "source": [
    "sns.countplot(x='AGE', data=data_raw)\n",
    "pass"
   ]
  },
  {
   "cell_type": "markdown",
   "metadata": {
    "id": "2_xuVwVmXpsA"
   },
   "source": [
    "Замечаем, что больше всего страховку запрашивают люди в возрасте 26-39 лет"
   ]
  },
  {
   "cell_type": "code",
   "execution_count": 26,
   "metadata": {
    "colab": {
     "base_uri": "https://localhost:8080/",
     "height": 279
    },
    "id": "f6mU1O-okrHB",
    "outputId": "49321830-fa2d-424a-fab0-c7178f660d5b"
   },
   "outputs": [
    {
     "data": {
      "image/png": "[encoded data removed]",
      "text/plain": [
       "<Figure size 640x480 with 1 Axes>"
      ]
     },
     "metadata": {},
     "output_type": "display_data"
    }
   ],
   "source": [
    "sns.countplot(x='GENDER', data=data_raw)\n",
    "pass"
   ]
  },
  {
   "cell_type": "markdown",
   "metadata": {
    "id": "5FZ3ZZFdmNTI"
   },
   "source": [
    "Страховка нужна всем, как женщинам, так и мужчинам"
   ]
  },
  {
   "cell_type": "code",
   "execution_count": 27,
   "metadata": {
    "colab": {
     "base_uri": "https://localhost:8080/",
     "height": 280
    },
    "id": "738yCLU9lfJO",
    "outputId": "7139cd29-7caa-462e-b479-bfa109069e38"
   },
   "outputs": [
    {
     "data": {
      "image/png": "[encoded data removed]",
      "text/plain": [
       "<Figure size 640x480 with 1 Axes>"
      ]
     },
     "metadata": {},
     "output_type": "display_data"
    }
   ],
   "source": [
    "sns.countplot(x='DRIVING_EXPERIENCE', data=data_raw)\n",
    "pass"
   ]
  },
  {
   "cell_type": "markdown",
   "metadata": {
    "id": "Uv7Bd6HZYbyD"
   },
   "source": [
    "Страховку чаще всего одобряют водителям с небольшим стажем"
   ]
  },
  {
   "cell_type": "code",
   "execution_count": 28,
   "metadata": {
    "colab": {
     "base_uri": "https://localhost:8080/",
     "height": 279
    },
    "id": "gC6IEZd3lynB",
    "outputId": "4cb40a49-aafb-47c9-cb75-323aadfb1c2f"
   },
   "outputs": [
    {
     "data": {
      "image/png": "[encoded data removed]",
      "text/plain": [
       "<Figure size 640x480 with 1 Axes>"
      ]
     },
     "metadata": {},
     "output_type": "display_data"
    }
   ],
   "source": [
    "sns.countplot(x='EDUCATION', data=data_raw)\n",
    "pass"
   ]
  },
  {
   "cell_type": "markdown",
   "metadata": {
    "id": "mgMa9dq4lFCn"
   },
   "source": [
    "Больше всего за страховкой обращаются люди с оконченным средним образованием."
   ]
  },
  {
   "cell_type": "code",
   "execution_count": 29,
   "metadata": {
    "colab": {
     "base_uri": "https://localhost:8080/",
     "height": 279
    },
    "id": "CxcLYrWwPVkF",
    "outputId": "40557e5b-bfb9-49a3-c835-05cfdbff37eb"
   },
   "outputs": [
    {
     "data": {
      "image/png": "[encoded data removed]",
      "text/plain": [
       "<Figure size 640x480 with 1 Axes>"
      ]
     },
     "metadata": {},
     "output_type": "display_data"
    }
   ],
   "source": [
    "sns.countplot(x='AGE', data=data_raw)\n",
    "pass"
   ]
  },
  {
   "cell_type": "markdown",
   "metadata": {
    "id": "S3sDA630PVkF"
   },
   "source": [
    "Видим, что больше всего за страховкой обращаются люди возраста 26-64 лет"
   ]
  },
  {
   "cell_type": "code",
   "execution_count": 30,
   "metadata": {
    "colab": {
     "base_uri": "https://localhost:8080/",
     "height": 297
    },
    "id": "ZezPpSgTPVkG",
    "outputId": "709fb341-6e1a-42e5-e464-05a98d86e538"
   },
   "outputs": [
    {
     "data": {
      "text/plain": [
       "<AxesSubplot: xlabel='DRIVING_EXPERIENCE', ylabel='OUTCOME'>"
      ]
     },
     "execution_count": 30,
     "metadata": {},
     "output_type": "execute_result"
    },
    {
     "data": {
      "image/png": "[encoded data removed]",
      "text/plain": [
       "<Figure size 640x480 with 1 Axes>"
      ]
     },
     "metadata": {},
     "output_type": "display_data"
    }
   ],
   "source": [
    "sns.barplot(data=data_raw, x=\"DRIVING_EXPERIENCE\", y=\"OUTCOME\")"
   ]
  },
  {
   "cell_type": "markdown",
   "metadata": {
    "id": "NbKoyEFTmjAL"
   },
   "source": [
    "Чаще страховку дают молодым водителям"
   ]
  },
  {
   "cell_type": "code",
   "execution_count": 31,
   "metadata": {
    "colab": {
     "base_uri": "https://localhost:8080/",
     "height": 279
    },
    "id": "Kp6FT9IWPVkG",
    "outputId": "203dac0f-2606-4e52-f624-c5c9caf30aa4"
   },
   "outputs": [
    {
     "data": {
      "image/png": "[encoded data removed]",
      "text/plain": [
       "<Figure size 640x480 with 1 Axes>"
      ]
     },
     "metadata": {},
     "output_type": "display_data"
    }
   ],
   "source": [
    "sns.countplot(x='CHILDREN', data=data_raw)\n",
    "pass"
   ]
  },
  {
   "cell_type": "markdown",
   "metadata": {
    "id": "12FHdUk3PVkG"
   },
   "source": [
    "Видим, что в страховке больше заинтересованы люди, у которых есть дети"
   ]
  },
  {
   "cell_type": "markdown",
   "metadata": {
    "id": "5UCg43oCPVkH"
   },
   "source": [
    "## Заполнение пропущенных значений ##\n",
    "Пропущенные значения в таблице представлены значениями `np.nan`. \n",
    "Посмотрим, сколько пропущенных значений в каждом столбце матрицы:"
   ]
  },
  {
   "cell_type": "code",
   "execution_count": 32,
   "metadata": {
    "colab": {
     "base_uri": "https://localhost:8080/"
    },
    "id": "V0Wn-FRBPVkH",
    "outputId": "124c6279-c393-403a-b72f-8991f9bce2d3"
   },
   "outputs": [
    {
     "data": {
      "text/plain": [
       "ID                       0\n",
       "AGE                      0\n",
       "GENDER                   0\n",
       "RACE                     0\n",
       "DRIVING_EXPERIENCE       0\n",
       "EDUCATION                0\n",
       "INCOME                   0\n",
       "CREDIT_SCORE           982\n",
       "VEHICLE_OWNERSHIP        0\n",
       "VEHICLE_YEAR             0\n",
       "MARRIED                  0\n",
       "CHILDREN                 0\n",
       "POSTAL_CODE              0\n",
       "ANNUAL_MILEAGE         957\n",
       "VEHICLE_TYPE             0\n",
       "SPEEDING_VIOLATIONS      0\n",
       "DUIS                     0\n",
       "PAST_ACCIDENTS           0\n",
       "OUTCOME                  0\n",
       "dtype: int64"
      ]
     },
     "execution_count": 32,
     "metadata": {},
     "output_type": "execute_result"
    }
   ],
   "source": [
    "data_raw.isna().sum()"
   ]
  },
  {
   "cell_type": "markdown",
   "metadata": {
    "id": "BSP2atOEPVkH"
   },
   "source": [
    "С пропущенными значениями надо что-то сделать. Заполним пропущенные значения медианной:"
   ]
  },
  {
   "cell_type": "code",
   "execution_count": 33,
   "metadata": {
    "colab": {
     "base_uri": "https://localhost:8080/"
    },
    "id": "dzqfQ0nmPVkH",
    "outputId": "bcbc2c0d-bc62-41b4-8ad9-0814f0711d17"
   },
   "outputs": [
    {
     "name": "stderr",
     "output_type": "stream",
     "text": [
      "C:\\Users\\stale\\AppData\\Local\\Temp\\ipykernel_4056\\3749499989.py:1: FutureWarning: The default value of numeric_only in DataFrame.median is deprecated. In a future version, it will default to False. In addition, specifying 'numeric_only=None' is deprecated. Select only valid columns or specify the value of numeric_only to silence this warning.\n",
      "  data_raw.fillna(data_raw.median(axis = 0), axis=0 , inplace=True)\n"
     ]
    }
   ],
   "source": [
    "data_raw.fillna(data_raw.median(axis = 0), axis=0 , inplace=True)"
   ]
  },
  {
   "cell_type": "markdown",
   "metadata": {
    "id": "4Y7NH0DxPVkH"
   },
   "source": [
    "Проверим заполненые значения:"
   ]
  },
  {
   "cell_type": "code",
   "execution_count": 34,
   "metadata": {
    "colab": {
     "base_uri": "https://localhost:8080/"
    },
    "id": "1A22RKtNPVkH",
    "outputId": "1524d448-e6c6-4f05-f72d-6d6141c59e2f"
   },
   "outputs": [
    {
     "data": {
      "text/plain": [
       "ID                     0\n",
       "AGE                    0\n",
       "GENDER                 0\n",
       "RACE                   0\n",
       "DRIVING_EXPERIENCE     0\n",
       "EDUCATION              0\n",
       "INCOME                 0\n",
       "CREDIT_SCORE           0\n",
       "VEHICLE_OWNERSHIP      0\n",
       "VEHICLE_YEAR           0\n",
       "MARRIED                0\n",
       "CHILDREN               0\n",
       "POSTAL_CODE            0\n",
       "ANNUAL_MILEAGE         0\n",
       "VEHICLE_TYPE           0\n",
       "SPEEDING_VIOLATIONS    0\n",
       "DUIS                   0\n",
       "PAST_ACCIDENTS         0\n",
       "OUTCOME                0\n",
       "dtype: int64"
      ]
     },
     "execution_count": 34,
     "metadata": {},
     "output_type": "execute_result"
    }
   ],
   "source": [
    "data_raw.isna().sum()"
   ]
  },
  {
   "cell_type": "markdown",
   "metadata": {
    "id": "QqbSd9UMPVkH"
   },
   "source": [
    "Пропущенных значений больше нет"
   ]
  },
  {
   "cell_type": "markdown",
   "metadata": {
    "id": "CXzUpLpbPVkI"
   },
   "source": [
    "## Обработка категориальных признаков\n",
    "Для дальнейшей обработки данных закодируем категориальные признаки с помощью числовых."
   ]
  },
  {
   "cell_type": "markdown",
   "metadata": {
    "id": "ButXZNR2PVkI"
   },
   "source": [
    "Для последующей нормализации признаков, нам необходимо закодировать категориальные признаки с помощью числовых. Заменим бинарные признаки на 0 и 1, а к небинарным применим метод бинаризации"
   ]
  },
  {
   "cell_type": "code",
   "execution_count": 35,
   "metadata": {
    "colab": {
     "base_uri": "https://localhost:8080/",
     "height": 357
    },
    "id": "gQxkYnDLPVkI",
    "outputId": "b1f0aeeb-a459-4d3f-cd0e-41e64a33648b"
   },
   "outputs": [
    {
     "data": {
      "text/html": [
       "<div>\n",
       "<style scoped>\n",
       "    .dataframe tbody tr th:only-of-type {\n",
       "        vertical-align: middle;\n",
       "    }\n",
       "\n",
       "    .dataframe tbody tr th {\n",
       "        vertical-align: top;\n",
       "    }\n",
       "\n",
       "    .dataframe thead th {\n",
       "        text-align: right;\n",
       "    }\n",
       "</style>\n",
       "<table border=\"1\" class=\"dataframe\">\n",
       "  <thead>\n",
       "    <tr style=\"text-align: right;\">\n",
       "      <th></th>\n",
       "      <th>ID</th>\n",
       "      <th>AGE</th>\n",
       "      <th>GENDER</th>\n",
       "      <th>RACE</th>\n",
       "      <th>DRIVING_EXPERIENCE</th>\n",
       "      <th>EDUCATION</th>\n",
       "      <th>INCOME</th>\n",
       "      <th>CREDIT_SCORE</th>\n",
       "      <th>VEHICLE_OWNERSHIP</th>\n",
       "      <th>VEHICLE_YEAR</th>\n",
       "      <th>MARRIED</th>\n",
       "      <th>CHILDREN</th>\n",
       "      <th>POSTAL_CODE</th>\n",
       "      <th>ANNUAL_MILEAGE</th>\n",
       "      <th>VEHICLE_TYPE</th>\n",
       "      <th>SPEEDING_VIOLATIONS</th>\n",
       "      <th>DUIS</th>\n",
       "      <th>PAST_ACCIDENTS</th>\n",
       "      <th>OUTCOME</th>\n",
       "    </tr>\n",
       "  </thead>\n",
       "  <tbody>\n",
       "    <tr>\n",
       "      <th>0</th>\n",
       "      <td>569520</td>\n",
       "      <td>65+</td>\n",
       "      <td>0</td>\n",
       "      <td>0</td>\n",
       "      <td>0-9y</td>\n",
       "      <td>high school</td>\n",
       "      <td>upper class</td>\n",
       "      <td>0.629027</td>\n",
       "      <td>1.0</td>\n",
       "      <td>0</td>\n",
       "      <td>0.0</td>\n",
       "      <td>1.0</td>\n",
       "      <td>10238</td>\n",
       "      <td>12000.0</td>\n",
       "      <td>0</td>\n",
       "      <td>0</td>\n",
       "      <td>0</td>\n",
       "      <td>0</td>\n",
       "      <td>0.0</td>\n",
       "    </tr>\n",
       "    <tr>\n",
       "      <th>1</th>\n",
       "      <td>750365</td>\n",
       "      <td>16-25</td>\n",
       "      <td>1</td>\n",
       "      <td>0</td>\n",
       "      <td>0-9y</td>\n",
       "      <td>none</td>\n",
       "      <td>poverty</td>\n",
       "      <td>0.357757</td>\n",
       "      <td>0.0</td>\n",
       "      <td>1</td>\n",
       "      <td>0.0</td>\n",
       "      <td>0.0</td>\n",
       "      <td>10238</td>\n",
       "      <td>16000.0</td>\n",
       "      <td>0</td>\n",
       "      <td>0</td>\n",
       "      <td>0</td>\n",
       "      <td>0</td>\n",
       "      <td>1.0</td>\n",
       "    </tr>\n",
       "    <tr>\n",
       "      <th>2</th>\n",
       "      <td>199901</td>\n",
       "      <td>16-25</td>\n",
       "      <td>0</td>\n",
       "      <td>0</td>\n",
       "      <td>0-9y</td>\n",
       "      <td>high school</td>\n",
       "      <td>working class</td>\n",
       "      <td>0.493146</td>\n",
       "      <td>1.0</td>\n",
       "      <td>1</td>\n",
       "      <td>0.0</td>\n",
       "      <td>0.0</td>\n",
       "      <td>10238</td>\n",
       "      <td>11000.0</td>\n",
       "      <td>0</td>\n",
       "      <td>0</td>\n",
       "      <td>0</td>\n",
       "      <td>0</td>\n",
       "      <td>0.0</td>\n",
       "    </tr>\n",
       "    <tr>\n",
       "      <th>3</th>\n",
       "      <td>478866</td>\n",
       "      <td>16-25</td>\n",
       "      <td>1</td>\n",
       "      <td>0</td>\n",
       "      <td>0-9y</td>\n",
       "      <td>university</td>\n",
       "      <td>working class</td>\n",
       "      <td>0.206013</td>\n",
       "      <td>1.0</td>\n",
       "      <td>1</td>\n",
       "      <td>0.0</td>\n",
       "      <td>1.0</td>\n",
       "      <td>32765</td>\n",
       "      <td>11000.0</td>\n",
       "      <td>0</td>\n",
       "      <td>0</td>\n",
       "      <td>0</td>\n",
       "      <td>0</td>\n",
       "      <td>0.0</td>\n",
       "    </tr>\n",
       "    <tr>\n",
       "      <th>4</th>\n",
       "      <td>731664</td>\n",
       "      <td>26-39</td>\n",
       "      <td>1</td>\n",
       "      <td>0</td>\n",
       "      <td>10-19y</td>\n",
       "      <td>none</td>\n",
       "      <td>working class</td>\n",
       "      <td>0.388366</td>\n",
       "      <td>1.0</td>\n",
       "      <td>1</td>\n",
       "      <td>0.0</td>\n",
       "      <td>0.0</td>\n",
       "      <td>32765</td>\n",
       "      <td>12000.0</td>\n",
       "      <td>0</td>\n",
       "      <td>2</td>\n",
       "      <td>0</td>\n",
       "      <td>1</td>\n",
       "      <td>1.0</td>\n",
       "    </tr>\n",
       "  </tbody>\n",
       "</table>\n",
       "</div>"
      ],
      "text/plain": [
       "       ID    AGE  GENDER  RACE DRIVING_EXPERIENCE    EDUCATION         INCOME  \\\n",
       "0  569520    65+       0     0               0-9y  high school    upper class   \n",
       "1  750365  16-25       1     0               0-9y         none        poverty   \n",
       "2  199901  16-25       0     0               0-9y  high school  working class   \n",
       "3  478866  16-25       1     0               0-9y   university  working class   \n",
       "4  731664  26-39       1     0             10-19y         none  working class   \n",
       "\n",
       "   CREDIT_SCORE  VEHICLE_OWNERSHIP  VEHICLE_YEAR  MARRIED  CHILDREN  \\\n",
       "0      0.629027                1.0             0      0.0       1.0   \n",
       "1      0.357757                0.0             1      0.0       0.0   \n",
       "2      0.493146                1.0             1      0.0       0.0   \n",
       "3      0.206013                1.0             1      0.0       1.0   \n",
       "4      0.388366                1.0             1      0.0       0.0   \n",
       "\n",
       "   POSTAL_CODE  ANNUAL_MILEAGE  VEHICLE_TYPE  SPEEDING_VIOLATIONS  DUIS  \\\n",
       "0        10238         12000.0             0                    0     0   \n",
       "1        10238         16000.0             0                    0     0   \n",
       "2        10238         11000.0             0                    0     0   \n",
       "3        32765         11000.0             0                    0     0   \n",
       "4        32765         12000.0             0                    2     0   \n",
       "\n",
       "   PAST_ACCIDENTS  OUTCOME  \n",
       "0               0      0.0  \n",
       "1               0      1.0  \n",
       "2               0      0.0  \n",
       "3               0      0.0  \n",
       "4               1      1.0  "
      ]
     },
     "execution_count": 35,
     "metadata": {},
     "output_type": "execute_result"
    }
   ],
   "source": [
    "AGE_dummies = pd.get_dummies(data_raw['AGE'])\n",
    "DRIVING_EXPERIENCE_dummies = pd.get_dummies(data_raw['DRIVING_EXPERIENCE'])\n",
    "EDUCATION_dummies = pd.get_dummies(data_raw['EDUCATION'])\n",
    "INCOME_dummies = pd.get_dummies(data_raw['INCOME'])\n",
    "data_raw['GENDER'] = pd.factorize(data_raw['GENDER'])[0]\n",
    "data_raw['RACE'] = pd.factorize(data_raw['RACE'])[0]\n",
    "data_raw['VEHICLE_YEAR'] = pd.factorize(data_raw['VEHICLE_YEAR'])[0]\n",
    "data_raw['VEHICLE_TYPE'] = pd.factorize(data_raw['VEHICLE_TYPE'])[0]\n",
    "data_raw.head()"
   ]
  },
  {
   "cell_type": "markdown",
   "metadata": {
    "id": "XEGiEi5IPVkI"
   },
   "source": [
    "Обработаем признаки \"AGE\", \"DRIVING_EXPERIENCE\", \"EDUCATION\", \"INCOME\""
   ]
  },
  {
   "cell_type": "code",
   "execution_count": 36,
   "metadata": {
    "colab": {
     "base_uri": "https://localhost:8080/",
     "height": 334
    },
    "id": "SGAHOBxPPVkI",
    "outputId": "e3ad286e-faa9-48c5-a0b3-e4d0fdfebe1f"
   },
   "outputs": [
    {
     "name": "stdout",
     "output_type": "stream",
     "text": [
      "(10000, 30)\n"
     ]
    },
    {
     "data": {
      "text/html": [
       "<div>\n",
       "<style scoped>\n",
       "    .dataframe tbody tr th:only-of-type {\n",
       "        vertical-align: middle;\n",
       "    }\n",
       "\n",
       "    .dataframe tbody tr th {\n",
       "        vertical-align: top;\n",
       "    }\n",
       "\n",
       "    .dataframe thead th {\n",
       "        text-align: right;\n",
       "    }\n",
       "</style>\n",
       "<table border=\"1\" class=\"dataframe\">\n",
       "  <thead>\n",
       "    <tr style=\"text-align: right;\">\n",
       "      <th></th>\n",
       "      <th>ID</th>\n",
       "      <th>GENDER</th>\n",
       "      <th>RACE</th>\n",
       "      <th>CREDIT_SCORE</th>\n",
       "      <th>VEHICLE_OWNERSHIP</th>\n",
       "      <th>VEHICLE_YEAR</th>\n",
       "      <th>MARRIED</th>\n",
       "      <th>CHILDREN</th>\n",
       "      <th>POSTAL_CODE</th>\n",
       "      <th>ANNUAL_MILEAGE</th>\n",
       "      <th>...</th>\n",
       "      <th>DRIVING_EXPERIENCE_10-19y</th>\n",
       "      <th>DRIVING_EXPERIENCE_20-29y</th>\n",
       "      <th>DRIVING_EXPERIENCE_30y+</th>\n",
       "      <th>EDUCATION_high school</th>\n",
       "      <th>EDUCATION_none</th>\n",
       "      <th>EDUCATION_university</th>\n",
       "      <th>INCOME_middle class</th>\n",
       "      <th>INCOME_poverty</th>\n",
       "      <th>INCOME_upper class</th>\n",
       "      <th>INCOME_working class</th>\n",
       "    </tr>\n",
       "  </thead>\n",
       "  <tbody>\n",
       "    <tr>\n",
       "      <th>0</th>\n",
       "      <td>569520</td>\n",
       "      <td>0</td>\n",
       "      <td>0</td>\n",
       "      <td>0.629027</td>\n",
       "      <td>1.0</td>\n",
       "      <td>0</td>\n",
       "      <td>0.0</td>\n",
       "      <td>1.0</td>\n",
       "      <td>10238</td>\n",
       "      <td>12000.0</td>\n",
       "      <td>...</td>\n",
       "      <td>0</td>\n",
       "      <td>0</td>\n",
       "      <td>0</td>\n",
       "      <td>1</td>\n",
       "      <td>0</td>\n",
       "      <td>0</td>\n",
       "      <td>0</td>\n",
       "      <td>0</td>\n",
       "      <td>1</td>\n",
       "      <td>0</td>\n",
       "    </tr>\n",
       "    <tr>\n",
       "      <th>1</th>\n",
       "      <td>750365</td>\n",
       "      <td>1</td>\n",
       "      <td>0</td>\n",
       "      <td>0.357757</td>\n",
       "      <td>0.0</td>\n",
       "      <td>1</td>\n",
       "      <td>0.0</td>\n",
       "      <td>0.0</td>\n",
       "      <td>10238</td>\n",
       "      <td>16000.0</td>\n",
       "      <td>...</td>\n",
       "      <td>0</td>\n",
       "      <td>0</td>\n",
       "      <td>0</td>\n",
       "      <td>0</td>\n",
       "      <td>1</td>\n",
       "      <td>0</td>\n",
       "      <td>0</td>\n",
       "      <td>1</td>\n",
       "      <td>0</td>\n",
       "      <td>0</td>\n",
       "    </tr>\n",
       "    <tr>\n",
       "      <th>2</th>\n",
       "      <td>199901</td>\n",
       "      <td>0</td>\n",
       "      <td>0</td>\n",
       "      <td>0.493146</td>\n",
       "      <td>1.0</td>\n",
       "      <td>1</td>\n",
       "      <td>0.0</td>\n",
       "      <td>0.0</td>\n",
       "      <td>10238</td>\n",
       "      <td>11000.0</td>\n",
       "      <td>...</td>\n",
       "      <td>0</td>\n",
       "      <td>0</td>\n",
       "      <td>0</td>\n",
       "      <td>1</td>\n",
       "      <td>0</td>\n",
       "      <td>0</td>\n",
       "      <td>0</td>\n",
       "      <td>0</td>\n",
       "      <td>0</td>\n",
       "      <td>1</td>\n",
       "    </tr>\n",
       "    <tr>\n",
       "      <th>3</th>\n",
       "      <td>478866</td>\n",
       "      <td>1</td>\n",
       "      <td>0</td>\n",
       "      <td>0.206013</td>\n",
       "      <td>1.0</td>\n",
       "      <td>1</td>\n",
       "      <td>0.0</td>\n",
       "      <td>1.0</td>\n",
       "      <td>32765</td>\n",
       "      <td>11000.0</td>\n",
       "      <td>...</td>\n",
       "      <td>0</td>\n",
       "      <td>0</td>\n",
       "      <td>0</td>\n",
       "      <td>0</td>\n",
       "      <td>0</td>\n",
       "      <td>1</td>\n",
       "      <td>0</td>\n",
       "      <td>0</td>\n",
       "      <td>0</td>\n",
       "      <td>1</td>\n",
       "    </tr>\n",
       "    <tr>\n",
       "      <th>4</th>\n",
       "      <td>731664</td>\n",
       "      <td>1</td>\n",
       "      <td>0</td>\n",
       "      <td>0.388366</td>\n",
       "      <td>1.0</td>\n",
       "      <td>1</td>\n",
       "      <td>0.0</td>\n",
       "      <td>0.0</td>\n",
       "      <td>32765</td>\n",
       "      <td>12000.0</td>\n",
       "      <td>...</td>\n",
       "      <td>1</td>\n",
       "      <td>0</td>\n",
       "      <td>0</td>\n",
       "      <td>0</td>\n",
       "      <td>1</td>\n",
       "      <td>0</td>\n",
       "      <td>0</td>\n",
       "      <td>0</td>\n",
       "      <td>0</td>\n",
       "      <td>1</td>\n",
       "    </tr>\n",
       "  </tbody>\n",
       "</table>\n",
       "<p>5 rows × 30 columns</p>\n",
       "</div>"
      ],
      "text/plain": [
       "       ID  GENDER  RACE  CREDIT_SCORE  VEHICLE_OWNERSHIP  VEHICLE_YEAR  \\\n",
       "0  569520       0     0      0.629027                1.0             0   \n",
       "1  750365       1     0      0.357757                0.0             1   \n",
       "2  199901       0     0      0.493146                1.0             1   \n",
       "3  478866       1     0      0.206013                1.0             1   \n",
       "4  731664       1     0      0.388366                1.0             1   \n",
       "\n",
       "   MARRIED  CHILDREN  POSTAL_CODE  ANNUAL_MILEAGE  ...  \\\n",
       "0      0.0       1.0        10238         12000.0  ...   \n",
       "1      0.0       0.0        10238         16000.0  ...   \n",
       "2      0.0       0.0        10238         11000.0  ...   \n",
       "3      0.0       1.0        32765         11000.0  ...   \n",
       "4      0.0       0.0        32765         12000.0  ...   \n",
       "\n",
       "   DRIVING_EXPERIENCE_10-19y  DRIVING_EXPERIENCE_20-29y  \\\n",
       "0                          0                          0   \n",
       "1                          0                          0   \n",
       "2                          0                          0   \n",
       "3                          0                          0   \n",
       "4                          1                          0   \n",
       "\n",
       "   DRIVING_EXPERIENCE_30y+  EDUCATION_high school  EDUCATION_none  \\\n",
       "0                        0                      1               0   \n",
       "1                        0                      0               1   \n",
       "2                        0                      1               0   \n",
       "3                        0                      0               0   \n",
       "4                        0                      0               1   \n",
       "\n",
       "   EDUCATION_university  INCOME_middle class  INCOME_poverty  \\\n",
       "0                     0                    0               0   \n",
       "1                     0                    0               1   \n",
       "2                     0                    0               0   \n",
       "3                     1                    0               0   \n",
       "4                     0                    0               0   \n",
       "\n",
       "   INCOME_upper class  INCOME_working class  \n",
       "0                   1                     0  \n",
       "1                   0                     0  \n",
       "2                   0                     1  \n",
       "3                   0                     1  \n",
       "4                   0                     1  \n",
       "\n",
       "[5 rows x 30 columns]"
      ]
     },
     "execution_count": 36,
     "metadata": {},
     "output_type": "execute_result"
    }
   ],
   "source": [
    "data_raw = pd.get_dummies(data_raw)\n",
    "print(data_raw.shape)\n",
    "data_raw.head()"
   ]
  },
  {
   "cell_type": "markdown",
   "metadata": {
    "id": "CY2dT8dUPVkI"
   },
   "source": [
    "### Наличие выбросов"
   ]
  },
  {
   "cell_type": "markdown",
   "metadata": {
    "id": "KlAqzG1uPVkI"
   },
   "source": [
    "##### Числовые признаки:"
   ]
  },
  {
   "cell_type": "code",
   "execution_count": 37,
   "metadata": {
    "colab": {
     "base_uri": "https://localhost:8080/"
    },
    "id": "Kfg6ypyLPVkJ",
    "outputId": "8c43b5d9-1cd2-4458-f29e-83bf72ffded1"
   },
   "outputs": [
    {
     "data": {
      "text/plain": [
       "0.525033    982\n",
       "0.428487      1\n",
       "0.594531      1\n",
       "0.396540      1\n",
       "0.578306      1\n",
       "           ... \n",
       "0.309272      1\n",
       "0.847325      1\n",
       "0.432080      1\n",
       "0.527041      1\n",
       "0.435225      1\n",
       "Name: CREDIT_SCORE, Length: 9019, dtype: int64"
      ]
     },
     "execution_count": 37,
     "metadata": {},
     "output_type": "execute_result"
    }
   ],
   "source": [
    "data_raw['CREDIT_SCORE'].value_counts()"
   ]
  },
  {
   "cell_type": "code",
   "execution_count": 38,
   "metadata": {
    "colab": {
     "base_uri": "https://localhost:8080/",
     "height": 268
    },
    "id": "x26oQwy8PVkJ",
    "outputId": "44159bff-5044-4308-d47b-25bda38f265b"
   },
   "outputs": [
    {
     "data": {
      "image/png": "[encoded data removed]",
      "text/plain": [
       "<Figure size 640x480 with 1 Axes>"
      ]
     },
     "metadata": {},
     "output_type": "display_data"
    }
   ],
   "source": [
    "plt.scatter(data_raw['OUTCOME'], data_raw['CREDIT_SCORE'], alpha=0.4)\n",
    "pass"
   ]
  },
  {
   "cell_type": "code",
   "execution_count": 39,
   "metadata": {
    "colab": {
     "base_uri": "https://localhost:8080/"
    },
    "id": "FiaWqKUWPVkJ",
    "outputId": "99c7253f-33df-4c0c-c23f-9cbefc330794"
   },
   "outputs": [
    {
     "data": {
      "text/plain": [
       "1.0    6970\n",
       "0.0    3030\n",
       "Name: VEHICLE_OWNERSHIP, dtype: int64"
      ]
     },
     "execution_count": 39,
     "metadata": {},
     "output_type": "execute_result"
    }
   ],
   "source": [
    "data_raw['VEHICLE_OWNERSHIP'].value_counts()"
   ]
  },
  {
   "cell_type": "code",
   "execution_count": 40,
   "metadata": {
    "colab": {
     "base_uri": "https://localhost:8080/"
    },
    "id": "8P9bkmbbPVkJ",
    "outputId": "31371ebb-64b4-4be6-a430-100b3623ab31"
   },
   "outputs": [
    {
     "data": {
      "text/plain": [
       "0.0    5018\n",
       "1.0    4982\n",
       "Name: MARRIED, dtype: int64"
      ]
     },
     "execution_count": 40,
     "metadata": {},
     "output_type": "execute_result"
    }
   ],
   "source": [
    "data_raw['MARRIED'].value_counts()"
   ]
  },
  {
   "cell_type": "code",
   "execution_count": 41,
   "metadata": {
    "colab": {
     "base_uri": "https://localhost:8080/"
    },
    "id": "mv46IB9WPVkJ",
    "outputId": "0557b339-30f3-4a6f-ed09-f5a8b31669d2"
   },
   "outputs": [
    {
     "data": {
      "text/plain": [
       "1.0    6888\n",
       "0.0    3112\n",
       "Name: CHILDREN, dtype: int64"
      ]
     },
     "execution_count": 41,
     "metadata": {},
     "output_type": "execute_result"
    }
   ],
   "source": [
    "data_raw['CHILDREN'].value_counts()"
   ]
  },
  {
   "cell_type": "code",
   "execution_count": 42,
   "metadata": {
    "colab": {
     "base_uri": "https://localhost:8080/"
    },
    "id": "edPwaN4wPVkJ",
    "outputId": "95bf75be-d392-4ee1-899e-0fbcc040c8b7"
   },
   "outputs": [
    {
     "data": {
      "text/plain": [
       "10238    6940\n",
       "32765    2456\n",
       "92101     484\n",
       "21217     120\n",
       "Name: POSTAL_CODE, dtype: int64"
      ]
     },
     "execution_count": 42,
     "metadata": {},
     "output_type": "execute_result"
    }
   ],
   "source": [
    "data_raw['POSTAL_CODE'].value_counts()"
   ]
  },
  {
   "cell_type": "code",
   "execution_count": 43,
   "metadata": {
    "colab": {
     "base_uri": "https://localhost:8080/"
    },
    "id": "_RruEqcNPVkJ",
    "outputId": "0f137ad9-770c-41c9-8015-7d6d777dd7e6"
   },
   "outputs": [
    {
     "data": {
      "text/plain": [
       "12000.0    2175\n",
       "11000.0    1253\n",
       "13000.0    1137\n",
       "10000.0    1071\n",
       "14000.0     894\n",
       "9000.0      856\n",
       "15000.0     632\n",
       "8000.0      557\n",
       "16000.0     419\n",
       "7000.0      322\n",
       "17000.0     246\n",
       "6000.0      165\n",
       "18000.0     103\n",
       "5000.0       65\n",
       "19000.0      48\n",
       "4000.0       27\n",
       "20000.0      13\n",
       "3000.0       10\n",
       "21000.0       3\n",
       "2000.0        2\n",
       "22000.0       2\n",
       "Name: ANNUAL_MILEAGE, dtype: int64"
      ]
     },
     "execution_count": 43,
     "metadata": {},
     "output_type": "execute_result"
    }
   ],
   "source": [
    "data_raw['ANNUAL_MILEAGE'].value_counts()"
   ]
  },
  {
   "cell_type": "code",
   "execution_count": 44,
   "metadata": {
    "colab": {
     "base_uri": "https://localhost:8080/"
    },
    "id": "k-p9n2DTPVkK",
    "outputId": "6b0ee579-9566-4a89-c17a-df2220550203"
   },
   "outputs": [
    {
     "data": {
      "text/plain": [
       "0     5028\n",
       "1     1544\n",
       "2     1161\n",
       "3      830\n",
       "4      530\n",
       "5      319\n",
       "6      188\n",
       "7      140\n",
       "8       75\n",
       "10      50\n",
       "9       49\n",
       "11      30\n",
       "12      20\n",
       "13      12\n",
       "15       8\n",
       "14       5\n",
       "16       4\n",
       "17       3\n",
       "19       2\n",
       "18       1\n",
       "22       1\n",
       "Name: SPEEDING_VIOLATIONS, dtype: int64"
      ]
     },
     "execution_count": 44,
     "metadata": {},
     "output_type": "execute_result"
    }
   ],
   "source": [
    "data_raw['SPEEDING_VIOLATIONS'].value_counts()"
   ]
  },
  {
   "cell_type": "code",
   "execution_count": 45,
   "metadata": {
    "colab": {
     "base_uri": "https://localhost:8080/"
    },
    "id": "kHo2jHenPVkK",
    "outputId": "76779cd8-9f00-4123-8abf-7e4658a8d0b8"
   },
   "outputs": [
    {
     "data": {
      "text/plain": [
       "0    8118\n",
       "1    1470\n",
       "2     331\n",
       "3      68\n",
       "4      10\n",
       "5       2\n",
       "6       1\n",
       "Name: DUIS, dtype: int64"
      ]
     },
     "execution_count": 45,
     "metadata": {},
     "output_type": "execute_result"
    }
   ],
   "source": [
    "data_raw['DUIS'].value_counts()"
   ]
  },
  {
   "cell_type": "code",
   "execution_count": 46,
   "metadata": {
    "colab": {
     "base_uri": "https://localhost:8080/"
    },
    "id": "eTg1xCgePVkK",
    "outputId": "ca7d243e-0aac-44b9-a2de-9ed08bc9354c"
   },
   "outputs": [
    {
     "data": {
      "text/plain": [
       "0     5584\n",
       "1     1783\n",
       "2     1104\n",
       "3      646\n",
       "4      366\n",
       "5      232\n",
       "6      144\n",
       "7       61\n",
       "8       41\n",
       "9       19\n",
       "10       9\n",
       "11       7\n",
       "12       2\n",
       "14       1\n",
       "15       1\n",
       "Name: PAST_ACCIDENTS, dtype: int64"
      ]
     },
     "execution_count": 46,
     "metadata": {},
     "output_type": "execute_result"
    }
   ],
   "source": [
    "data_raw['PAST_ACCIDENTS'].value_counts()"
   ]
  },
  {
   "cell_type": "code",
   "execution_count": 47,
   "metadata": {
    "colab": {
     "base_uri": "https://localhost:8080/"
    },
    "id": "ejts9FAKPVkK",
    "outputId": "2caed782-4ad3-438a-ab05-4bfe0fa88b4e"
   },
   "outputs": [
    {
     "data": {
      "text/plain": [
       "0.0    6867\n",
       "1.0    3133\n",
       "Name: OUTCOME, dtype: int64"
      ]
     },
     "execution_count": 47,
     "metadata": {},
     "output_type": "execute_result"
    }
   ],
   "source": [
    "data_raw['OUTCOME'].value_counts()"
   ]
  },
  {
   "cell_type": "markdown",
   "metadata": {
    "id": "LBliYoCYPVkK"
   },
   "source": [
    "## Нормализация признаков"
   ]
  },
  {
   "cell_type": "markdown",
   "metadata": {
    "id": "8D_Dw7kSPVkK"
   },
   "source": [
    "Наиболее часто используют один из двух следующих способов:\n",
    "- *приведение к отрезку $[0,1]$* - это линейное преобразование, приводящее все значения к заданному отрезку;\n"
   ]
  },
  {
   "cell_type": "code",
   "execution_count": 48,
   "metadata": {
    "colab": {
     "base_uri": "https://localhost:8080/",
     "height": 411
    },
    "id": "rbikO9jGPVkK",
    "outputId": "9f243ab5-cc72-4f73-f8ce-03ea83bb8c92"
   },
   "outputs": [
    {
     "data": {
      "text/html": [
       "<div>\n",
       "<style scoped>\n",
       "    .dataframe tbody tr th:only-of-type {\n",
       "        vertical-align: middle;\n",
       "    }\n",
       "\n",
       "    .dataframe tbody tr th {\n",
       "        vertical-align: top;\n",
       "    }\n",
       "\n",
       "    .dataframe thead th {\n",
       "        text-align: right;\n",
       "    }\n",
       "</style>\n",
       "<table border=\"1\" class=\"dataframe\">\n",
       "  <thead>\n",
       "    <tr style=\"text-align: right;\">\n",
       "      <th></th>\n",
       "      <th>ID</th>\n",
       "      <th>GENDER</th>\n",
       "      <th>RACE</th>\n",
       "      <th>CREDIT_SCORE</th>\n",
       "      <th>VEHICLE_OWNERSHIP</th>\n",
       "      <th>VEHICLE_YEAR</th>\n",
       "      <th>MARRIED</th>\n",
       "      <th>CHILDREN</th>\n",
       "      <th>POSTAL_CODE</th>\n",
       "      <th>ANNUAL_MILEAGE</th>\n",
       "      <th>...</th>\n",
       "      <th>DRIVING_EXPERIENCE_10-19y</th>\n",
       "      <th>DRIVING_EXPERIENCE_20-29y</th>\n",
       "      <th>DRIVING_EXPERIENCE_30y+</th>\n",
       "      <th>EDUCATION_high school</th>\n",
       "      <th>EDUCATION_none</th>\n",
       "      <th>EDUCATION_university</th>\n",
       "      <th>INCOME_middle class</th>\n",
       "      <th>INCOME_poverty</th>\n",
       "      <th>INCOME_upper class</th>\n",
       "      <th>INCOME_working class</th>\n",
       "    </tr>\n",
       "  </thead>\n",
       "  <tbody>\n",
       "    <tr>\n",
       "      <th>count</th>\n",
       "      <td>10000.000000</td>\n",
       "      <td>10000.000000</td>\n",
       "      <td>10000.000000</td>\n",
       "      <td>10000.000000</td>\n",
       "      <td>10000.000000</td>\n",
       "      <td>10000.000000</td>\n",
       "      <td>10000.000000</td>\n",
       "      <td>10000.000000</td>\n",
       "      <td>10000.000000</td>\n",
       "      <td>10000.000000</td>\n",
       "      <td>...</td>\n",
       "      <td>10000.0000</td>\n",
       "      <td>10000.000000</td>\n",
       "      <td>10000.000000</td>\n",
       "      <td>10000.000000</td>\n",
       "      <td>10000.000000</td>\n",
       "      <td>10000.000000</td>\n",
       "      <td>10000.000000</td>\n",
       "      <td>10000.000000</td>\n",
       "      <td>10000.000000</td>\n",
       "      <td>10000.000000</td>\n",
       "    </tr>\n",
       "    <tr>\n",
       "      <th>mean</th>\n",
       "      <td>0.500483</td>\n",
       "      <td>0.499000</td>\n",
       "      <td>0.098800</td>\n",
       "      <td>0.510612</td>\n",
       "      <td>0.697000</td>\n",
       "      <td>0.696700</td>\n",
       "      <td>0.498200</td>\n",
       "      <td>0.688800</td>\n",
       "      <td>0.117593</td>\n",
       "      <td>0.486300</td>\n",
       "      <td>...</td>\n",
       "      <td>0.3299</td>\n",
       "      <td>0.211900</td>\n",
       "      <td>0.105200</td>\n",
       "      <td>0.415700</td>\n",
       "      <td>0.191500</td>\n",
       "      <td>0.392800</td>\n",
       "      <td>0.213800</td>\n",
       "      <td>0.181400</td>\n",
       "      <td>0.433600</td>\n",
       "      <td>0.171200</td>\n",
       "    </tr>\n",
       "    <tr>\n",
       "      <th>std</th>\n",
       "      <td>0.290067</td>\n",
       "      <td>0.500024</td>\n",
       "      <td>0.298408</td>\n",
       "      <td>0.144117</td>\n",
       "      <td>0.459578</td>\n",
       "      <td>0.459707</td>\n",
       "      <td>0.500022</td>\n",
       "      <td>0.463008</td>\n",
       "      <td>0.231064</td>\n",
       "      <td>0.134082</td>\n",
       "      <td>...</td>\n",
       "      <td>0.4702</td>\n",
       "      <td>0.408675</td>\n",
       "      <td>0.306826</td>\n",
       "      <td>0.492867</td>\n",
       "      <td>0.393501</td>\n",
       "      <td>0.488397</td>\n",
       "      <td>0.410008</td>\n",
       "      <td>0.385369</td>\n",
       "      <td>0.495596</td>\n",
       "      <td>0.376702</td>\n",
       "    </tr>\n",
       "    <tr>\n",
       "      <th>min</th>\n",
       "      <td>0.000000</td>\n",
       "      <td>0.000000</td>\n",
       "      <td>0.000000</td>\n",
       "      <td>0.000000</td>\n",
       "      <td>0.000000</td>\n",
       "      <td>0.000000</td>\n",
       "      <td>0.000000</td>\n",
       "      <td>0.000000</td>\n",
       "      <td>0.000000</td>\n",
       "      <td>0.000000</td>\n",
       "      <td>...</td>\n",
       "      <td>0.0000</td>\n",
       "      <td>0.000000</td>\n",
       "      <td>0.000000</td>\n",
       "      <td>0.000000</td>\n",
       "      <td>0.000000</td>\n",
       "      <td>0.000000</td>\n",
       "      <td>0.000000</td>\n",
       "      <td>0.000000</td>\n",
       "      <td>0.000000</td>\n",
       "      <td>0.000000</td>\n",
       "    </tr>\n",
       "    <tr>\n",
       "      <th>25%</th>\n",
       "      <td>0.249569</td>\n",
       "      <td>0.000000</td>\n",
       "      <td>0.000000</td>\n",
       "      <td>0.416714</td>\n",
       "      <td>0.000000</td>\n",
       "      <td>0.000000</td>\n",
       "      <td>0.000000</td>\n",
       "      <td>0.000000</td>\n",
       "      <td>0.000000</td>\n",
       "      <td>0.400000</td>\n",
       "      <td>...</td>\n",
       "      <td>0.0000</td>\n",
       "      <td>0.000000</td>\n",
       "      <td>0.000000</td>\n",
       "      <td>0.000000</td>\n",
       "      <td>0.000000</td>\n",
       "      <td>0.000000</td>\n",
       "      <td>0.000000</td>\n",
       "      <td>0.000000</td>\n",
       "      <td>0.000000</td>\n",
       "      <td>0.000000</td>\n",
       "    </tr>\n",
       "    <tr>\n",
       "      <th>50%</th>\n",
       "      <td>0.501739</td>\n",
       "      <td>0.000000</td>\n",
       "      <td>0.000000</td>\n",
       "      <td>0.519774</td>\n",
       "      <td>1.000000</td>\n",
       "      <td>1.000000</td>\n",
       "      <td>0.000000</td>\n",
       "      <td>1.000000</td>\n",
       "      <td>0.000000</td>\n",
       "      <td>0.500000</td>\n",
       "      <td>...</td>\n",
       "      <td>0.0000</td>\n",
       "      <td>0.000000</td>\n",
       "      <td>0.000000</td>\n",
       "      <td>0.000000</td>\n",
       "      <td>0.000000</td>\n",
       "      <td>0.000000</td>\n",
       "      <td>0.000000</td>\n",
       "      <td>0.000000</td>\n",
       "      <td>0.000000</td>\n",
       "      <td>0.000000</td>\n",
       "    </tr>\n",
       "    <tr>\n",
       "      <th>75%</th>\n",
       "      <td>0.753968</td>\n",
       "      <td>1.000000</td>\n",
       "      <td>0.000000</td>\n",
       "      <td>0.610769</td>\n",
       "      <td>1.000000</td>\n",
       "      <td>1.000000</td>\n",
       "      <td>1.000000</td>\n",
       "      <td>1.000000</td>\n",
       "      <td>0.275179</td>\n",
       "      <td>0.550000</td>\n",
       "      <td>...</td>\n",
       "      <td>1.0000</td>\n",
       "      <td>0.000000</td>\n",
       "      <td>0.000000</td>\n",
       "      <td>1.000000</td>\n",
       "      <td>0.000000</td>\n",
       "      <td>1.000000</td>\n",
       "      <td>0.000000</td>\n",
       "      <td>0.000000</td>\n",
       "      <td>1.000000</td>\n",
       "      <td>0.000000</td>\n",
       "    </tr>\n",
       "    <tr>\n",
       "      <th>max</th>\n",
       "      <td>1.000000</td>\n",
       "      <td>1.000000</td>\n",
       "      <td>1.000000</td>\n",
       "      <td>1.000000</td>\n",
       "      <td>1.000000</td>\n",
       "      <td>1.000000</td>\n",
       "      <td>1.000000</td>\n",
       "      <td>1.000000</td>\n",
       "      <td>1.000000</td>\n",
       "      <td>1.000000</td>\n",
       "      <td>...</td>\n",
       "      <td>1.0000</td>\n",
       "      <td>1.000000</td>\n",
       "      <td>1.000000</td>\n",
       "      <td>1.000000</td>\n",
       "      <td>1.000000</td>\n",
       "      <td>1.000000</td>\n",
       "      <td>1.000000</td>\n",
       "      <td>1.000000</td>\n",
       "      <td>1.000000</td>\n",
       "      <td>1.000000</td>\n",
       "    </tr>\n",
       "  </tbody>\n",
       "</table>\n",
       "<p>8 rows × 30 columns</p>\n",
       "</div>"
      ],
      "text/plain": [
       "                 ID        GENDER          RACE  CREDIT_SCORE  \\\n",
       "count  10000.000000  10000.000000  10000.000000  10000.000000   \n",
       "mean       0.500483      0.499000      0.098800      0.510612   \n",
       "std        0.290067      0.500024      0.298408      0.144117   \n",
       "min        0.000000      0.000000      0.000000      0.000000   \n",
       "25%        0.249569      0.000000      0.000000      0.416714   \n",
       "50%        0.501739      0.000000      0.000000      0.519774   \n",
       "75%        0.753968      1.000000      0.000000      0.610769   \n",
       "max        1.000000      1.000000      1.000000      1.000000   \n",
       "\n",
       "       VEHICLE_OWNERSHIP  VEHICLE_YEAR       MARRIED      CHILDREN  \\\n",
       "count       10000.000000  10000.000000  10000.000000  10000.000000   \n",
       "mean            0.697000      0.696700      0.498200      0.688800   \n",
       "std             0.459578      0.459707      0.500022      0.463008   \n",
       "min             0.000000      0.000000      0.000000      0.000000   \n",
       "25%             0.000000      0.000000      0.000000      0.000000   \n",
       "50%             1.000000      1.000000      0.000000      1.000000   \n",
       "75%             1.000000      1.000000      1.000000      1.000000   \n",
       "max             1.000000      1.000000      1.000000      1.000000   \n",
       "\n",
       "        POSTAL_CODE  ANNUAL_MILEAGE  ...  DRIVING_EXPERIENCE_10-19y  \\\n",
       "count  10000.000000    10000.000000  ...                 10000.0000   \n",
       "mean       0.117593        0.486300  ...                     0.3299   \n",
       "std        0.231064        0.134082  ...                     0.4702   \n",
       "min        0.000000        0.000000  ...                     0.0000   \n",
       "25%        0.000000        0.400000  ...                     0.0000   \n",
       "50%        0.000000        0.500000  ...                     0.0000   \n",
       "75%        0.275179        0.550000  ...                     1.0000   \n",
       "max        1.000000        1.000000  ...                     1.0000   \n",
       "\n",
       "       DRIVING_EXPERIENCE_20-29y  DRIVING_EXPERIENCE_30y+  \\\n",
       "count               10000.000000             10000.000000   \n",
       "mean                    0.211900                 0.105200   \n",
       "std                     0.408675                 0.306826   \n",
       "min                     0.000000                 0.000000   \n",
       "25%                     0.000000                 0.000000   \n",
       "50%                     0.000000                 0.000000   \n",
       "75%                     0.000000                 0.000000   \n",
       "max                     1.000000                 1.000000   \n",
       "\n",
       "       EDUCATION_high school  EDUCATION_none  EDUCATION_university  \\\n",
       "count           10000.000000    10000.000000          10000.000000   \n",
       "mean                0.415700        0.191500              0.392800   \n",
       "std                 0.492867        0.393501              0.488397   \n",
       "min                 0.000000        0.000000              0.000000   \n",
       "25%                 0.000000        0.000000              0.000000   \n",
       "50%                 0.000000        0.000000              0.000000   \n",
       "75%                 1.000000        0.000000              1.000000   \n",
       "max                 1.000000        1.000000              1.000000   \n",
       "\n",
       "       INCOME_middle class  INCOME_poverty  INCOME_upper class  \\\n",
       "count         10000.000000    10000.000000        10000.000000   \n",
       "mean              0.213800        0.181400            0.433600   \n",
       "std               0.410008        0.385369            0.495596   \n",
       "min               0.000000        0.000000            0.000000   \n",
       "25%               0.000000        0.000000            0.000000   \n",
       "50%               0.000000        0.000000            0.000000   \n",
       "75%               0.000000        0.000000            1.000000   \n",
       "max               1.000000        1.000000            1.000000   \n",
       "\n",
       "       INCOME_working class  \n",
       "count          10000.000000  \n",
       "mean               0.171200  \n",
       "std                0.376702  \n",
       "min                0.000000  \n",
       "25%                0.000000  \n",
       "50%                0.000000  \n",
       "75%                0.000000  \n",
       "max                1.000000  \n",
       "\n",
       "[8 rows x 30 columns]"
      ]
     },
     "execution_count": 48,
     "metadata": {},
     "output_type": "execute_result"
    }
   ],
   "source": [
    "data_normal = (data_raw - data_raw.min(axis=0)) / (data_raw.max(axis=0) - data_raw.min(axis=0))\n",
    "data_normal.describe()"
   ]
  },
  {
   "cell_type": "markdown",
   "metadata": {
    "id": "kZPs06jEPVkL"
   },
   "source": [
    "## Выбор признаков"
   ]
  },
  {
   "cell_type": "markdown",
   "metadata": {
    "id": "5AlXWuH_PVkL"
   },
   "source": [
    "Используем  все признаки кроме ID, так как он создается только для идентификации"
   ]
  },
  {
   "cell_type": "code",
   "execution_count": 49,
   "metadata": {
    "id": "TGwbq2fbPVkL"
   },
   "outputs": [],
   "source": [
    "X = data_normal.drop (['ID', 'OUTCOME'], axis=1) \n",
    "y = data_raw['OUTCOME']"
   ]
  },
  {
   "cell_type": "markdown",
   "metadata": {
    "id": "_GoMH4MUPVkL"
   },
   "source": [
    "Разобьем данные на обучающую и тестовую выборки в пропорции 3:1 (75% - обучающая выборка, 25% - тестовая):"
   ]
  },
  {
   "cell_type": "code",
   "execution_count": 50,
   "metadata": {
    "colab": {
     "base_uri": "https://localhost:8080/"
    },
    "id": "0gFIXc5jPVkL",
    "outputId": "59828e9d-c4ab-41f3-9624-03900f06f1b2"
   },
   "outputs": [
    {
     "data": {
      "text/plain": [
       "(7500, 2500)"
      ]
     },
     "execution_count": 50,
     "metadata": {},
     "output_type": "execute_result"
    }
   ],
   "source": [
    "from sklearn.model_selection import train_test_split\n",
    "X_train, X_test, y_train, y_test = train_test_split(X, y, test_size = 0.25, random_state = 42)\n",
    "N_train, _ = X_train.shape \n",
    "N_test,  _ = X_test.shape \n",
    "N_train, N_test"
   ]
  },
  {
   "cell_type": "markdown",
   "metadata": {
    "id": "dvQAzsnTPVkL"
   },
   "source": [
    "## Метод ближайших соседей"
   ]
  },
  {
   "cell_type": "markdown",
   "metadata": {
    "id": "kIxDN4tEmbOi"
   },
   "source": [
    "Попробуем обучить нашу модель с помощью метода `kNN`"
   ]
  },
  {
   "cell_type": "code",
   "execution_count": 51,
   "metadata": {
    "id": "y_dlvLSuPVkL"
   },
   "outputs": [],
   "source": [
    "#from sklearn.neighbors import KNeighborsClassifier\n",
    "#knn_def = KNeighborsClassifier()\n",
    "#knn_def.fit(X_train, y_train)\n",
    "#err_tr = 100 * knn_def.score(X_train, y_train)\n",
    "#err_te= 100 * knn_def.score(X_test, y_test)\n",
    "#print(\"Accuracy. Train : {:.2f}%, Test: {:.2f}%. \".format(err_tr, err_te))"
   ]
  },
  {
   "cell_type": "code",
   "execution_count": 54,
   "metadata": {
    "colab": {
     "base_uri": "https://localhost:8080/"
    },
    "id": "BrMLWR-bdtmL",
    "outputId": "fe0a6fca-ce26-4860-ef90-9e3f7a7853d4"
   },
   "outputs": [
    {
     "data": {
      "text/html": [
       "<style>#sk-container-id-2 {color: black;background-color: white;}#sk-container-id-2 pre{padding: 0;}#sk-container-id-2 div.sk-toggleable {background-color: white;}#sk-container-id-2 label.sk-toggleable__label {cursor: pointer;display: block;width: 100%;margin-bottom: 0;padding: 0.3em;box-sizing: border-box;text-align: center;}#sk-container-id-2 label.sk-toggleable__label-arrow:before {content: \"▸\";float: left;margin-right: 0.25em;color: #696969;}#sk-container-id-2 label.sk-toggleable__label-arrow:hover:before {color: black;}#sk-container-id-2 div.sk-estimator:hover label.sk-toggleable__label-arrow:before {color: black;}#sk-container-id-2 div.sk-toggleable__content {max-height: 0;max-width: 0;overflow: hidden;text-align: left;background-color: #f0f8ff;}#sk-container-id-2 div.sk-toggleable__content pre {margin: 0.2em;color: black;border-radius: 0.25em;background-color: #f0f8ff;}#sk-container-id-2 input.sk-toggleable__control:checked~div.sk-toggleable__content {max-height: 200px;max-width: 100%;overflow: auto;}#sk-container-id-2 input.sk-toggleable__control:checked~label.sk-toggleable__label-arrow:before {content: \"▾\";}#sk-container-id-2 div.sk-estimator input.sk-toggleable__control:checked~label.sk-toggleable__label {background-color: #d4ebff;}#sk-container-id-2 div.sk-label input.sk-toggleable__control:checked~label.sk-toggleable__label {background-color: #d4ebff;}#sk-container-id-2 input.sk-hidden--visually {border: 0;clip: rect(1px 1px 1px 1px);clip: rect(1px, 1px, 1px, 1px);height: 1px;margin: -1px;overflow: hidden;padding: 0;position: absolute;width: 1px;}#sk-container-id-2 div.sk-estimator {font-family: monospace;background-color: #f0f8ff;border: 1px dotted black;border-radius: 0.25em;box-sizing: border-box;margin-bottom: 0.5em;}#sk-container-id-2 div.sk-estimator:hover {background-color: #d4ebff;}#sk-container-id-2 div.sk-parallel-item::after {content: \"\";width: 100%;border-bottom: 1px solid gray;flex-grow: 1;}#sk-container-id-2 div.sk-label:hover label.sk-toggleable__label {background-color: #d4ebff;}#sk-container-id-2 div.sk-serial::before {content: \"\";position: absolute;border-left: 1px solid gray;box-sizing: border-box;top: 0;bottom: 0;left: 50%;z-index: 0;}#sk-container-id-2 div.sk-serial {display: flex;flex-direction: column;align-items: center;background-color: white;padding-right: 0.2em;padding-left: 0.2em;position: relative;}#sk-container-id-2 div.sk-item {position: relative;z-index: 1;}#sk-container-id-2 div.sk-parallel {display: flex;align-items: stretch;justify-content: center;background-color: white;position: relative;}#sk-container-id-2 div.sk-item::before, #sk-container-id-2 div.sk-parallel-item::before {content: \"\";position: absolute;border-left: 1px solid gray;box-sizing: border-box;top: 0;bottom: 0;left: 50%;z-index: -1;}#sk-container-id-2 div.sk-parallel-item {display: flex;flex-direction: column;z-index: 1;position: relative;background-color: white;}#sk-container-id-2 div.sk-parallel-item:first-child::after {align-self: flex-end;width: 50%;}#sk-container-id-2 div.sk-parallel-item:last-child::after {align-self: flex-start;width: 50%;}#sk-container-id-2 div.sk-parallel-item:only-child::after {width: 0;}#sk-container-id-2 div.sk-dashed-wrapped {border: 1px dashed gray;margin: 0 0.4em 0.5em 0.4em;box-sizing: border-box;padding-bottom: 0.4em;background-color: white;}#sk-container-id-2 div.sk-label label {font-family: monospace;font-weight: bold;display: inline-block;line-height: 1.2em;}#sk-container-id-2 div.sk-label-container {text-align: center;}#sk-container-id-2 div.sk-container {/* jupyter's `normalize.less` sets `[hidden] { display: none; }` but bootstrap.min.css set `[hidden] { display: none !important; }` so we also need the `!important` here to be able to override the default hidden behavior on the sphinx rendered scikit-learn.org. See: https://github.com/scikit-learn/scikit-learn/issues/21755 */display: inline-block !important;position: relative;}#sk-container-id-2 div.sk-text-repr-fallback {display: none;}</style><div id=\"sk-container-id-2\" class=\"sk-top-container\"><div class=\"sk-text-repr-fallback\"><pre>KNeighborsClassifier(n_neighbors=10)</pre><b>In a Jupyter environment, please rerun this cell to show the HTML representation or trust the notebook. <br />On GitHub, the HTML representation is unable to render, please try loading this page with nbviewer.org.</b></div><div class=\"sk-container\" hidden><div class=\"sk-item\"><div class=\"sk-estimator sk-toggleable\"><input class=\"sk-toggleable__control sk-hidden--visually\" id=\"sk-estimator-id-2\" type=\"checkbox\" checked><label for=\"sk-estimator-id-2\" class=\"sk-toggleable__label sk-toggleable__label-arrow\">KNeighborsClassifier</label><div class=\"sk-toggleable__content\"><pre>KNeighborsClassifier(n_neighbors=10)</pre></div></div></div></div></div>"
      ],
      "text/plain": [
       "KNeighborsClassifier(n_neighbors=10)"
      ]
     },
     "execution_count": 54,
     "metadata": {},
     "output_type": "execute_result"
    }
   ],
   "source": [
    "from sklearn.neighbors import KNeighborsClassifier\n",
    "\n",
    "knn = KNeighborsClassifier(n_neighbors = 10)\n",
    "knn.fit(X_train, y_train)"
   ]
  },
  {
   "cell_type": "code",
   "execution_count": 55,
   "metadata": {
    "id": "fZuonJo4mzIa"
   },
   "outputs": [],
   "source": [
    "y_test_predict = knn.predict(X_test)\n",
    "err_test  = np.mean(y_test  != y_test_predict)\n",
    "y_train_predict=knn.predict(X_train)\n",
    "err_train  = np.mean(y_train  != y_train_predict)"
   ]
  },
  {
   "cell_type": "code",
   "execution_count": 56,
   "metadata": {
    "colab": {
     "base_uri": "https://localhost:8080/"
    },
    "id": "7c-ch2shm218",
    "outputId": "0e0f836b-94e3-40be-a9a7-e738a913e08c"
   },
   "outputs": [
    {
     "data": {
      "text/plain": [
       "(18.4, 14.853333333333332)"
      ]
     },
     "execution_count": 56,
     "metadata": {},
     "output_type": "execute_result"
    }
   ],
   "source": [
    "err_test*100, err_train*100"
   ]
  },
  {
   "cell_type": "markdown",
   "metadata": {
    "id": "aZvzPRvePVkM"
   },
   "source": [
    "Получаем ошибку на тестовой выборке 18.4%, а на обучающей - 14.84%."
   ]
  },
  {
   "cell_type": "markdown",
   "metadata": {
    "id": "IizhLujjPVkM"
   },
   "source": [
    "Увеличим число соседей до 20:"
   ]
  },
  {
   "cell_type": "code",
   "execution_count": 57,
   "metadata": {
    "colab": {
     "base_uri": "https://localhost:8080/"
    },
    "id": "oWA6EO96PVkM",
    "outputId": "ffac06aa-8839-43ef-8c58-3ede90b87da2"
   },
   "outputs": [
    {
     "data": {
      "text/html": [
       "<style>#sk-container-id-3 {color: black;background-color: white;}#sk-container-id-3 pre{padding: 0;}#sk-container-id-3 div.sk-toggleable {background-color: white;}#sk-container-id-3 label.sk-toggleable__label {cursor: pointer;display: block;width: 100%;margin-bottom: 0;padding: 0.3em;box-sizing: border-box;text-align: center;}#sk-container-id-3 label.sk-toggleable__label-arrow:before {content: \"▸\";float: left;margin-right: 0.25em;color: #696969;}#sk-container-id-3 label.sk-toggleable__label-arrow:hover:before {color: black;}#sk-container-id-3 div.sk-estimator:hover label.sk-toggleable__label-arrow:before {color: black;}#sk-container-id-3 div.sk-toggleable__content {max-height: 0;max-width: 0;overflow: hidden;text-align: left;background-color: #f0f8ff;}#sk-container-id-3 div.sk-toggleable__content pre {margin: 0.2em;color: black;border-radius: 0.25em;background-color: #f0f8ff;}#sk-container-id-3 input.sk-toggleable__control:checked~div.sk-toggleable__content {max-height: 200px;max-width: 100%;overflow: auto;}#sk-container-id-3 input.sk-toggleable__control:checked~label.sk-toggleable__label-arrow:before {content: \"▾\";}#sk-container-id-3 div.sk-estimator input.sk-toggleable__control:checked~label.sk-toggleable__label {background-color: #d4ebff;}#sk-container-id-3 div.sk-label input.sk-toggleable__control:checked~label.sk-toggleable__label {background-color: #d4ebff;}#sk-container-id-3 input.sk-hidden--visually {border: 0;clip: rect(1px 1px 1px 1px);clip: rect(1px, 1px, 1px, 1px);height: 1px;margin: -1px;overflow: hidden;padding: 0;position: absolute;width: 1px;}#sk-container-id-3 div.sk-estimator {font-family: monospace;background-color: #f0f8ff;border: 1px dotted black;border-radius: 0.25em;box-sizing: border-box;margin-bottom: 0.5em;}#sk-container-id-3 div.sk-estimator:hover {background-color: #d4ebff;}#sk-container-id-3 div.sk-parallel-item::after {content: \"\";width: 100%;border-bottom: 1px solid gray;flex-grow: 1;}#sk-container-id-3 div.sk-label:hover label.sk-toggleable__label {background-color: #d4ebff;}#sk-container-id-3 div.sk-serial::before {content: \"\";position: absolute;border-left: 1px solid gray;box-sizing: border-box;top: 0;bottom: 0;left: 50%;z-index: 0;}#sk-container-id-3 div.sk-serial {display: flex;flex-direction: column;align-items: center;background-color: white;padding-right: 0.2em;padding-left: 0.2em;position: relative;}#sk-container-id-3 div.sk-item {position: relative;z-index: 1;}#sk-container-id-3 div.sk-parallel {display: flex;align-items: stretch;justify-content: center;background-color: white;position: relative;}#sk-container-id-3 div.sk-item::before, #sk-container-id-3 div.sk-parallel-item::before {content: \"\";position: absolute;border-left: 1px solid gray;box-sizing: border-box;top: 0;bottom: 0;left: 50%;z-index: -1;}#sk-container-id-3 div.sk-parallel-item {display: flex;flex-direction: column;z-index: 1;position: relative;background-color: white;}#sk-container-id-3 div.sk-parallel-item:first-child::after {align-self: flex-end;width: 50%;}#sk-container-id-3 div.sk-parallel-item:last-child::after {align-self: flex-start;width: 50%;}#sk-container-id-3 div.sk-parallel-item:only-child::after {width: 0;}#sk-container-id-3 div.sk-dashed-wrapped {border: 1px dashed gray;margin: 0 0.4em 0.5em 0.4em;box-sizing: border-box;padding-bottom: 0.4em;background-color: white;}#sk-container-id-3 div.sk-label label {font-family: monospace;font-weight: bold;display: inline-block;line-height: 1.2em;}#sk-container-id-3 div.sk-label-container {text-align: center;}#sk-container-id-3 div.sk-container {/* jupyter's `normalize.less` sets `[hidden] { display: none; }` but bootstrap.min.css set `[hidden] { display: none !important; }` so we also need the `!important` here to be able to override the default hidden behavior on the sphinx rendered scikit-learn.org. See: https://github.com/scikit-learn/scikit-learn/issues/21755 */display: inline-block !important;position: relative;}#sk-container-id-3 div.sk-text-repr-fallback {display: none;}</style><div id=\"sk-container-id-3\" class=\"sk-top-container\"><div class=\"sk-text-repr-fallback\"><pre>KNeighborsClassifier(n_neighbors=20)</pre><b>In a Jupyter environment, please rerun this cell to show the HTML representation or trust the notebook. <br />On GitHub, the HTML representation is unable to render, please try loading this page with nbviewer.org.</b></div><div class=\"sk-container\" hidden><div class=\"sk-item\"><div class=\"sk-estimator sk-toggleable\"><input class=\"sk-toggleable__control sk-hidden--visually\" id=\"sk-estimator-id-3\" type=\"checkbox\" checked><label for=\"sk-estimator-id-3\" class=\"sk-toggleable__label sk-toggleable__label-arrow\">KNeighborsClassifier</label><div class=\"sk-toggleable__content\"><pre>KNeighborsClassifier(n_neighbors=20)</pre></div></div></div></div></div>"
      ],
      "text/plain": [
       "KNeighborsClassifier(n_neighbors=20)"
      ]
     },
     "execution_count": 57,
     "metadata": {},
     "output_type": "execute_result"
    }
   ],
   "source": [
    "from sklearn.neighbors import KNeighborsClassifier\n",
    "\n",
    "knn = KNeighborsClassifier(n_neighbors = 20)\n",
    "knn.fit(X_train, y_train)"
   ]
  },
  {
   "cell_type": "code",
   "execution_count": 58,
   "metadata": {
    "id": "ZZq7zchMPVkN"
   },
   "outputs": [],
   "source": [
    "y_test_predict = knn.predict(X_test)\n",
    "err_test  = np.mean(y_test  != y_test_predict)\n",
    "y_train_predict=knn.predict(X_train)\n",
    "err_train  = np.mean(y_train  != y_train_predict)"
   ]
  },
  {
   "cell_type": "code",
   "execution_count": 59,
   "metadata": {
    "colab": {
     "base_uri": "https://localhost:8080/"
    },
    "id": "e6l_6kVYPVkN",
    "outputId": "cd77760f-c30f-4337-9553-3066ecd922b5"
   },
   "outputs": [
    {
     "data": {
      "text/plain": [
       "(17.8, 16.2)"
      ]
     },
     "execution_count": 59,
     "metadata": {},
     "output_type": "execute_result"
    }
   ],
   "source": [
    "err_test*100, err_train*100"
   ]
  },
  {
   "cell_type": "markdown",
   "metadata": {
    "id": "TXw2oCHQPVkN"
   },
   "source": [
    "Точность на тестовой выборке увеличилась, но уменьшилась на обучающей"
   ]
  },
  {
   "cell_type": "markdown",
   "metadata": {
    "id": "VeDhmAR7hVlm"
   },
   "source": [
    "##Метод Random Forest"
   ]
  },
  {
   "cell_type": "code",
   "execution_count": 60,
   "metadata": {
    "colab": {
     "base_uri": "https://localhost:8080/"
    },
    "id": "He_6jKIafc_o",
    "outputId": "ea1aa2c0-7e2a-4c1d-9c98-1a65c47f59ac"
   },
   "outputs": [
    {
     "name": "stdout",
     "output_type": "stream",
     "text": [
      "0.0002666666666666667 0.174\n"
     ]
    }
   ],
   "source": [
    "from sklearn import ensemble\n",
    "rf = ensemble.RandomForestClassifier(n_estimators = 1000)\n",
    "rf.fit(X_train, y_train)\n",
    "\n",
    "err_train = np.mean(y_train != rf.predict(X_train))\n",
    "err_test  = np.mean(y_test  != rf.predict(X_test))\n",
    "\n",
    "print(err_train, err_test)\n"
   ]
  },
  {
   "cell_type": "code",
   "execution_count": 61,
   "metadata": {
    "colab": {
     "base_uri": "https://localhost:8080/"
    },
    "id": "BLoLLwB_g2i8",
    "outputId": "1003ae6b-8636-4f4a-9d03-6e954b1a4656"
   },
   "outputs": [
    {
     "data": {
      "text/plain": [
       "(17.4, 0.02666666666666667)"
      ]
     },
     "execution_count": 61,
     "metadata": {},
     "output_type": "execute_result"
    }
   ],
   "source": [
    "err_test*100, err_train*100"
   ]
  },
  {
   "cell_type": "markdown",
   "metadata": {
    "id": "SIP82TYmhTwM"
   },
   "source": [
    "По результатам видно, что метод Random Forest дает более высокую точность на обучающей выборке, а на тестовой дает точно такую же, как в предыдущем методе, сравнивая с методом ближайших соседей, в данном случае для задачи классификации лучше использовать Random Forest"
   ]
  },
  {
   "cell_type": "markdown",
   "metadata": {
    "id": "rDmwgDIyPVkN"
   },
   "source": [
    "## Выводы "
   ]
  },
  {
   "cell_type": "markdown",
   "metadata": {
    "id": "vVifJ46ePVkN"
   },
   "source": [
    "Как итог выполненной лабораторной рабоыт была решена задача \n",
    "классификации. Анализируя данные, мы выявляли, будет получена страховка или нет. Обучение и классификация проводились с помощью метода ближайших k-соседей (рассмотрены случаи 10 и 20 соседей) и метода Random Forest. Значения ошибок получились достаточно большими, возможно,  в наступлении страхового случая доля случайности велика и предсказать наверняка, наступит такой случай или нет невозможно, то это объясняет данный процент ошибок. Также обратим внимание, что ошибка на тестовой выборке больше, чем на обучающей."
   ]
  },
  {
   "cell_type": "markdown",
   "metadata": {
    "id": "30AgJUW20zGl"
   },
   "source": [
    "**Домашнее задание 2**"
   ]
  },
  {
   "cell_type": "markdown",
   "metadata": {},
   "source": [
    "Обучим логистическую регрессию"
   ]
  },
  {
   "cell_type": "code",
   "execution_count": 65,
   "metadata": {},
   "outputs": [],
   "source": [
    "import time\n",
    "from sklearn.linear_model import LogisticRegression\n",
    "logreg = LogisticRegression(solver=\"lbfgs\", max_iter=500)"
   ]
  },
  {
   "cell_type": "code",
   "execution_count": 66,
   "metadata": {},
   "outputs": [
    {
     "data": {
      "text/html": [
       "<style>#sk-container-id-5 {color: black;background-color: white;}#sk-container-id-5 pre{padding: 0;}#sk-container-id-5 div.sk-toggleable {background-color: white;}#sk-container-id-5 label.sk-toggleable__label {cursor: pointer;display: block;width: 100%;margin-bottom: 0;padding: 0.3em;box-sizing: border-box;text-align: center;}#sk-container-id-5 label.sk-toggleable__label-arrow:before {content: \"▸\";float: left;margin-right: 0.25em;color: #696969;}#sk-container-id-5 label.sk-toggleable__label-arrow:hover:before {color: black;}#sk-container-id-5 div.sk-estimator:hover label.sk-toggleable__label-arrow:before {color: black;}#sk-container-id-5 div.sk-toggleable__content {max-height: 0;max-width: 0;overflow: hidden;text-align: left;background-color: #f0f8ff;}#sk-container-id-5 div.sk-toggleable__content pre {margin: 0.2em;color: black;border-radius: 0.25em;background-color: #f0f8ff;}#sk-container-id-5 input.sk-toggleable__control:checked~div.sk-toggleable__content {max-height: 200px;max-width: 100%;overflow: auto;}#sk-container-id-5 input.sk-toggleable__control:checked~label.sk-toggleable__label-arrow:before {content: \"▾\";}#sk-container-id-5 div.sk-estimator input.sk-toggleable__control:checked~label.sk-toggleable__label {background-color: #d4ebff;}#sk-container-id-5 div.sk-label input.sk-toggleable__control:checked~label.sk-toggleable__label {background-color: #d4ebff;}#sk-container-id-5 input.sk-hidden--visually {border: 0;clip: rect(1px 1px 1px 1px);clip: rect(1px, 1px, 1px, 1px);height: 1px;margin: -1px;overflow: hidden;padding: 0;position: absolute;width: 1px;}#sk-container-id-5 div.sk-estimator {font-family: monospace;background-color: #f0f8ff;border: 1px dotted black;border-radius: 0.25em;box-sizing: border-box;margin-bottom: 0.5em;}#sk-container-id-5 div.sk-estimator:hover {background-color: #d4ebff;}#sk-container-id-5 div.sk-parallel-item::after {content: \"\";width: 100%;border-bottom: 1px solid gray;flex-grow: 1;}#sk-container-id-5 div.sk-label:hover label.sk-toggleable__label {background-color: #d4ebff;}#sk-container-id-5 div.sk-serial::before {content: \"\";position: absolute;border-left: 1px solid gray;box-sizing: border-box;top: 0;bottom: 0;left: 50%;z-index: 0;}#sk-container-id-5 div.sk-serial {display: flex;flex-direction: column;align-items: center;background-color: white;padding-right: 0.2em;padding-left: 0.2em;position: relative;}#sk-container-id-5 div.sk-item {position: relative;z-index: 1;}#sk-container-id-5 div.sk-parallel {display: flex;align-items: stretch;justify-content: center;background-color: white;position: relative;}#sk-container-id-5 div.sk-item::before, #sk-container-id-5 div.sk-parallel-item::before {content: \"\";position: absolute;border-left: 1px solid gray;box-sizing: border-box;top: 0;bottom: 0;left: 50%;z-index: -1;}#sk-container-id-5 div.sk-parallel-item {display: flex;flex-direction: column;z-index: 1;position: relative;background-color: white;}#sk-container-id-5 div.sk-parallel-item:first-child::after {align-self: flex-end;width: 50%;}#sk-container-id-5 div.sk-parallel-item:last-child::after {align-self: flex-start;width: 50%;}#sk-container-id-5 div.sk-parallel-item:only-child::after {width: 0;}#sk-container-id-5 div.sk-dashed-wrapped {border: 1px dashed gray;margin: 0 0.4em 0.5em 0.4em;box-sizing: border-box;padding-bottom: 0.4em;background-color: white;}#sk-container-id-5 div.sk-label label {font-family: monospace;font-weight: bold;display: inline-block;line-height: 1.2em;}#sk-container-id-5 div.sk-label-container {text-align: center;}#sk-container-id-5 div.sk-container {/* jupyter's `normalize.less` sets `[hidden] { display: none; }` but bootstrap.min.css set `[hidden] { display: none !important; }` so we also need the `!important` here to be able to override the default hidden behavior on the sphinx rendered scikit-learn.org. See: https://github.com/scikit-learn/scikit-learn/issues/21755 */display: inline-block !important;position: relative;}#sk-container-id-5 div.sk-text-repr-fallback {display: none;}</style><div id=\"sk-container-id-5\" class=\"sk-top-container\"><div class=\"sk-text-repr-fallback\"><pre>LogisticRegression(max_iter=500)</pre><b>In a Jupyter environment, please rerun this cell to show the HTML representation or trust the notebook. <br />On GitHub, the HTML representation is unable to render, please try loading this page with nbviewer.org.</b></div><div class=\"sk-container\" hidden><div class=\"sk-item\"><div class=\"sk-estimator sk-toggleable\"><input class=\"sk-toggleable__control sk-hidden--visually\" id=\"sk-estimator-id-5\" type=\"checkbox\" checked><label for=\"sk-estimator-id-5\" class=\"sk-toggleable__label sk-toggleable__label-arrow\">LogisticRegression</label><div class=\"sk-toggleable__content\"><pre>LogisticRegression(max_iter=500)</pre></div></div></div></div></div>"
      ],
      "text/plain": [
       "LogisticRegression(max_iter=500)"
      ]
     },
     "execution_count": 66,
     "metadata": {},
     "output_type": "execute_result"
    }
   ],
   "source": [
    "\n",
    "logreg.fit(X_train, y_train)"
   ]
  },
  {
   "cell_type": "code",
   "execution_count": 67,
   "metadata": {},
   "outputs": [
    {
     "name": "stdout",
     "output_type": "stream",
     "text": [
      "Ошибка на train =  0.15386666666666668\n",
      "Ошибка на test =  0.1556\n",
      "Runtime =  0.0060002803802490234\n"
     ]
    }
   ],
   "source": [
    "start_time = time.time()\n",
    "error_train = np.mean(y_train != logreg.predict(X_train))\n",
    "error_test  = np.mean(y_test  != logreg.predict(X_test))\n",
    "end_time = time.time()\n",
    "runtime = end_time - start_time\n",
    "\n",
    "print('Ошибка на train = ', error_train)\n",
    "print('Ошибка на test = ', error_test)\n",
    "print('Runtime = ', runtime)"
   ]
  },
  {
   "cell_type": "code",
   "execution_count": 77,
   "metadata": {},
   "outputs": [
    {
     "data": {
      "text/plain": [
       "0.8444"
      ]
     },
     "execution_count": 77,
     "metadata": {},
     "output_type": "execute_result"
    }
   ],
   "source": [
    "from sklearn.metrics import accuracy_score\n",
    "\n",
    "accuracy_score(y_test,logreg.predict(X_test))"
   ]
  },
  {
   "cell_type": "code",
   "execution_count": 68,
   "metadata": {},
   "outputs": [
    {
     "data": {
      "text/plain": [
       "<sklearn.metrics._plot.confusion_matrix.ConfusionMatrixDisplay at 0x23f2b756cd0>"
      ]
     },
     "execution_count": 68,
     "metadata": {},
     "output_type": "execute_result"
    },
    {
     "data": {
      "image/png": "[encoded data removed]",
      "text/plain": [
       "<Figure size 640x480 with 2 Axes>"
      ]
     },
     "metadata": {},
     "output_type": "display_data"
    }
   ],
   "source": [
    "from sklearn.metrics import ConfusionMatrixDisplay\n",
    "ConfusionMatrixDisplay.from_predictions(y_test, logreg.predict(X_test))"
   ]
  },
  {
   "cell_type": "markdown",
   "metadata": {},
   "source": [
    "Полносвязная нейронная сеть c 1-м скрытым слоем"
   ]
  },
  {
   "cell_type": "code",
   "execution_count": 70,
   "metadata": {},
   "outputs": [
    {
     "name": "stdout",
     "output_type": "stream",
     "text": [
      "Ошибка на train =  0.14733333333333334\n",
      "Ошибка на test =  0.1608\n",
      "Runtime =  0.08100056648254395\n"
     ]
    },
    {
     "name": "stderr",
     "output_type": "stream",
     "text": [
      "C:\\Users\\stale\\deep_learning\\lib\\site-packages\\sklearn\\neural_network\\_multilayer_perceptron.py:536: ConvergenceWarning: lbfgs failed to converge (status=1):\n",
      "STOP: TOTAL NO. of ITERATIONS REACHED LIMIT.\n",
      "\n",
      "Increase the number of iterations (max_iter) or scale the data as shown in:\n",
      "    https://scikit-learn.org/stable/modules/preprocessing.html\n",
      "  self.n_iter_ = _check_optimize_result(\"lbfgs\", opt_res, self.max_iter)\n"
     ]
    }
   ],
   "source": [
    "from sklearn.neural_network import MLPClassifier\n",
    "mlp = MLPClassifier(hidden_layer_sizes = (150,),\n",
    "                          solver = 'lbfgs', \n",
    "                          activation = 'logistic',\n",
    "                          random_state = 42)\n",
    "mlp.fit(X_train, y_train)\n",
    "start_time = time.time()\n",
    "error_train = np.mean(y_train != mlp.predict(X_train))\n",
    "error_test  = np.mean(y_test  != mlp.predict(X_test))\n",
    "end_time = time.time()\n",
    "runtime = end_time - start_time\n",
    "\n",
    "print('Ошибка на train = ', error_train)\n",
    "print('Ошибка на test = ', error_test)\n",
    "print('Runtime = ', runtime)"
   ]
  },
  {
   "cell_type": "code",
   "execution_count": 71,
   "metadata": {},
   "outputs": [
    {
     "data": {
      "text/plain": [
       "<sklearn.metrics._plot.confusion_matrix.ConfusionMatrixDisplay at 0x23f4915acd0>"
      ]
     },
     "execution_count": 71,
     "metadata": {},
     "output_type": "execute_result"
    },
    {
     "data": {
      "image/png": "[encoded data removed]",
      "text/plain": [
       "<Figure size 640x480 with 2 Axes>"
      ]
     },
     "metadata": {},
     "output_type": "display_data"
    }
   ],
   "source": [
    "from sklearn.metrics import ConfusionMatrixDisplay\n",
    "ConfusionMatrixDisplay.from_predictions(y_test, mlp.predict(X_test))"
   ]
  },
  {
   "cell_type": "markdown",
   "metadata": {},
   "source": [
    "Подбор гиперпараметров"
   ]
  },
  {
   "cell_type": "markdown",
   "metadata": {},
   "source": [
    "График зависимости ошибки от параметра alpha"
   ]
  },
  {
   "cell_type": "code",
   "execution_count": 79,
   "metadata": {},
   "outputs": [
    {
     "data": {
      "text/plain": [
       "<matplotlib.legend.Legend at 0x23f4ae5fd30>"
      ]
     },
     "execution_count": 79,
     "metadata": {},
     "output_type": "execute_result"
    },
    {
     "data": {
      "image/png": "[encoded data removed]",
      "text/plain": [
       "<Figure size 640x480 with 1 Axes>"
      ]
     },
     "metadata": {},
     "output_type": "display_data"
    }
   ],
   "source": [
    "alphas = np.logspace(-2, 2, 21)\n",
    "\n",
    "train_err = []\n",
    "test_err = []\n",
    "\n",
    "for alpha in alphas :\n",
    "    mlp = MLPClassifier(alpha = alpha, hidden_layer_sizes = (100,), \n",
    "                              solver = 'lbfgs' , activation = 'logistic', max_iter=1000, random_state = 42)\n",
    "    mlp.fit(X_train, y_train)\n",
    "\n",
    "    y_train_p = mlp.predict(X_train)\n",
    "    y_test_p = mlp.predict(X_test)\n",
    "    \n",
    "    train_err.append(np.mean(y_train != y_train_p))\n",
    "    test_err.append(np.mean(y_test != y_test_p))\n",
    "\n",
    "plt.semilogx(alphas, train_err, 'b-o', label = 'train')\n",
    "plt.semilogx(alphas, test_err, 'r-o', label = 'test')\n",
    "plt.xlim([np.min(alphas), np.max(alphas)])\n",
    "plt.title('Error vs. alpha')\n",
    "plt.xlabel('alpha')\n",
    "plt.ylabel('error')\n",
    "plt.legend()"
   ]
  },
  {
   "cell_type": "code",
   "execution_count": 80,
   "metadata": {},
   "outputs": [
    {
     "name": "stdout",
     "output_type": "stream",
     "text": [
      "Минимальная ошибка на  train =  0.11786666666666666\n",
      "Минимальная ошибка на test =  0.154\n"
     ]
    }
   ],
   "source": [
    "min_train_err = np.min(train_err)\n",
    "min_test_err = np.min(test_err)\n",
    "print('Минимальная ошибка на  train = ', min_train_err)\n",
    "print('Минимальная ошибка на test = ', min_test_err)"
   ]
  },
  {
   "cell_type": "code",
   "execution_count": 82,
   "metadata": {},
   "outputs": [
    {
     "name": "stdout",
     "output_type": "stream",
     "text": [
      "Оптимальный параметр alpha =  [1.58489319]\n"
     ]
    }
   ],
   "source": [
    "alpha_opt = alphas[test_err == min_test_err]\n",
    "print('Оптимальный параметр alpha = ', alpha_opt)"
   ]
  },
  {
   "cell_type": "markdown",
   "metadata": {},
   "source": [
    "График зависимости ошибки от количества нейронов в скрытом слое"
   ]
  },
  {
   "cell_type": "code",
   "execution_count": 91,
   "metadata": {},
   "outputs": [
    {
     "data": {
      "text/plain": [
       "<matplotlib.legend.Legend at 0x23f4bdacf70>"
      ]
     },
     "execution_count": 91,
     "metadata": {},
     "output_type": "execute_result"
    },
    {
     "data": {
      "image/png": "[encoded data removed]",
      "text/plain": [
       "<Figure size 640x480 with 1 Axes>"
      ]
     },
     "metadata": {},
     "output_type": "display_data"
    }
   ],
   "source": [
    "neurons = np.array([i for i in range(1, 600, 50)])\n",
    "\n",
    "train_err = []\n",
    "test_err = []\n",
    "\n",
    "for neuron in neurons:\n",
    "    mlp = MLPClassifier(alpha = alpha_opt[0], hidden_layer_sizes = (neuron,), \n",
    "                              solver = 'lbfgs', activation = 'logistic', max_iter=1000, random_state = 42)\n",
    "    mlp.fit(X_train, y_train)\n",
    "\n",
    "    y_train_p = mlp.predict(X_train)\n",
    "    y_test_p = mlp.predict(X_test)\n",
    "    \n",
    "    train_err.append(np.mean(y_train != y_train_p))\n",
    "    test_err.append(np.mean(y_test != y_test_p))\n",
    "\n",
    "plt.semilogx(neurons, train_err, 'b-o', label = 'train')\n",
    "plt.semilogx(neurons, test_err, 'r-o', label = 'test')\n",
    "plt.xlim([np.min(neurons), np.max(neurons)])\n",
    "plt.title('Error vs. neurons')\n",
    "plt.xlabel('neurons')\n",
    "plt.ylabel('error')\n",
    "plt.legend()"
   ]
  },
  {
   "cell_type": "code",
   "execution_count": 92,
   "metadata": {},
   "outputs": [
    {
     "name": "stdout",
     "output_type": "stream",
     "text": [
      "Минимальная ошибка на  train =  0.14586666666666667\n",
      "Минимальная ошибка на test =  0.1528\n"
     ]
    }
   ],
   "source": [
    "min_train_err = np.min(train_err)\n",
    "min_test_err = np.min(test_err)\n",
    "print('Минимальная ошибка на  train = ', min_train_err)\n",
    "print('Минимальная ошибка на test = ', min_test_err)"
   ]
  },
  {
   "cell_type": "code",
   "execution_count": 93,
   "metadata": {},
   "outputs": [
    {
     "name": "stdout",
     "output_type": "stream",
     "text": [
      "Оптимальное количество нейронов =  [51]\n"
     ]
    }
   ],
   "source": [
    "neurons_opt = neurons[test_err == min_test_err]\n",
    "print('Оптимальное количество нейронов = ', neurons_opt)"
   ]
  },
  {
   "cell_type": "markdown",
   "metadata": {},
   "source": [
    "**Вывод**\n",
    "\n",
    "\n",
    "В рамках данного домашнего задания была рассмотрена задача прогнозирования страховки. Были обучены такие модели как: LogisticRegression, Random Forest(модель была обучена в 1 дз), MLPClassifier. Для нейронной сети были подобраны оптимальные значения гиперпараметров (alpha и количество нейронов).При оптимальных значениях гиперпараметров удалось достичь точности 84,3% на тестовой выборке. Также к каждой модели была построена ConfusionMatrix. Если сравнивать логистическую регрессию и нейронную сеть, то логистическая регрессия показала себя немного лучше, но не значительно (84,4%)."
   ]
  },
  {
   "cell_type": "code",
   "execution_count": null,
   "metadata": {},
   "outputs": [],
   "source": []
  }
 ],
 "metadata": {
  "colab": {
   "provenance": []
  },
  "kernelspec": {
   "display_name": "Python 3 (ipykernel)",
   "language": "python",
   "name": "python3"
  },
  "language_info": {
   "codemirror_mode": {
    "name": "ipython",
    "version": 3
   },
   "file_extension": ".py",
   "mimetype": "text/x-python",
   "name": "python",
   "nbconvert_exporter": "python",
   "pygments_lexer": "ipython3",
   "version": "3.9.7"
  }
 },
 "nbformat": 4,
 "nbformat_minor": 1
}
